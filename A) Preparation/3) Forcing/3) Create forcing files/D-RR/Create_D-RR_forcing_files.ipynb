{
 "cells": [
  {
   "cell_type": "markdown",
   "id": "c1df8f6e",
   "metadata": {},
   "source": [
    "# Create inputfiles for RR"
   ]
  },
  {
   "cell_type": "markdown",
   "id": "e50abacf",
   "metadata": {},
   "source": [
    "In this Notebook, the inputfiles of D-RR are created."
   ]
  },
  {
   "cell_type": "markdown",
   "id": "75a9879f",
   "metadata": {},
   "source": [
    "## Import required packages"
   ]
  },
  {
   "cell_type": "code",
   "execution_count": 3,
   "id": "50562302",
   "metadata": {},
   "outputs": [],
   "source": [
    "import numpy as np\n",
    "import pandas as pd\n",
    "import matplotlib.pyplot as plt\n",
    "import datetime\n",
    "from datetime import timedelta"
   ]
  },
  {
   "cell_type": "markdown",
   "id": "140d2bb6",
   "metadata": {},
   "source": [
    "## Precipitation"
   ]
  },
  {
   "cell_type": "markdown",
   "id": "86541218",
   "metadata": {},
   "source": [
    "### Open subcatchment mean data"
   ]
  },
  {
   "cell_type": "code",
   "execution_count": 2,
   "id": "4f0a9ee8",
   "metadata": {},
   "outputs": [],
   "source": [
    "folder1 = r\"C:\\Users\\924259\\OneDrive - Royal HaskoningDHV\\Documents\\Master thesis Daan Idsinga\\Data\\Precipitation - NRR\""
   ]
  },
  {
   "cell_type": "code",
   "execution_count": 3,
   "id": "68cb2404",
   "metadata": {},
   "outputs": [],
   "source": [
    "cal_precip_mean = pd.read_csv(f'{folder1}/Subcatchments/calibration_precipitation_mean.csv',index_col=[0],parse_dates=[0])\n",
    "val_precip_mean = pd.read_csv(f'{folder1}/Subcatchments/validation_precipitation_mean.csv',index_col=[0],parse_dates=[0])"
   ]
  },
  {
   "cell_type": "markdown",
   "id": "2ca33c56",
   "metadata": {},
   "source": [
    "### Select correct time period"
   ]
  },
  {
   "cell_type": "code",
   "execution_count": 9,
   "id": "4ded68ac",
   "metadata": {},
   "outputs": [],
   "source": [
    "cal_precip_mean = cal_precip_mean['2019-01-01':'2020-07-01 00:00:00']"
   ]
  },
  {
   "cell_type": "code",
   "execution_count": 10,
   "id": "f3a51d6f",
   "metadata": {},
   "outputs": [],
   "source": [
    "val_precip_mean = val_precip_mean['2021-01-01':'2021-08-01 00:00:00']"
   ]
  },
  {
   "cell_type": "markdown",
   "id": "0ef6f5cb",
   "metadata": {},
   "source": [
    "### Inspect data"
   ]
  },
  {
   "cell_type": "code",
   "execution_count": 6,
   "id": "aeb04233",
   "metadata": {},
   "outputs": [
    {
     "data": {
      "text/plain": [
       "DatetimeIndex(['2019-01-01 00:00:00', '2019-01-01 01:00:00',\n",
       "               '2019-01-01 02:00:00', '2019-01-01 03:00:00',\n",
       "               '2019-01-01 04:00:00', '2019-01-01 05:00:00',\n",
       "               '2019-01-01 06:00:00', '2019-01-01 07:00:00',\n",
       "               '2019-01-01 08:00:00', '2019-01-01 09:00:00',\n",
       "               ...\n",
       "               '2020-06-30 15:00:00', '2020-06-30 16:00:00',\n",
       "               '2020-06-30 17:00:00', '2020-06-30 18:00:00',\n",
       "               '2020-06-30 19:00:00', '2020-06-30 20:00:00',\n",
       "               '2020-06-30 21:00:00', '2020-06-30 22:00:00',\n",
       "               '2020-06-30 23:00:00', '2020-07-01 00:00:00'],\n",
       "              dtype='datetime64[ns]', name='time', length=13129, freq=None)"
      ]
     },
     "execution_count": 6,
     "metadata": {},
     "output_type": "execute_result"
    }
   ],
   "source": [
    "cal_precip_mean.index"
   ]
  },
  {
   "cell_type": "code",
   "execution_count": 7,
   "id": "349bbb15",
   "metadata": {},
   "outputs": [
    {
     "data": {
      "text/plain": [
       "DatetimeIndex(['2021-01-01 00:00:00', '2021-01-01 01:00:00',\n",
       "               '2021-01-01 02:00:00', '2021-01-01 03:00:00',\n",
       "               '2021-01-01 04:00:00', '2021-01-01 05:00:00',\n",
       "               '2021-01-01 06:00:00', '2021-01-01 07:00:00',\n",
       "               '2021-01-01 08:00:00', '2021-01-01 09:00:00',\n",
       "               ...\n",
       "               '2021-07-31 15:00:00', '2021-07-31 16:00:00',\n",
       "               '2021-07-31 17:00:00', '2021-07-31 18:00:00',\n",
       "               '2021-07-31 19:00:00', '2021-07-31 20:00:00',\n",
       "               '2021-07-31 21:00:00', '2021-07-31 22:00:00',\n",
       "               '2021-07-31 23:00:00', '2021-08-01 00:00:00'],\n",
       "              dtype='datetime64[ns]', name='time', length=5089, freq=None)"
      ]
     },
     "execution_count": 7,
     "metadata": {},
     "output_type": "execute_result"
    }
   ],
   "source": [
    "val_precip_mean.index"
   ]
  },
  {
   "cell_type": "markdown",
   "id": "1cb498dd",
   "metadata": {},
   "source": [
    "### Calculate the number of timesteps"
   ]
  },
  {
   "cell_type": "code",
   "execution_count": 4,
   "id": "2b22ce4d",
   "metadata": {},
   "outputs": [
    {
     "data": {
      "text/plain": [
       "212.0"
      ]
     },
     "execution_count": 4,
     "metadata": {},
     "output_type": "execute_result"
    }
   ],
   "source": [
    "np.round(5089/24)"
   ]
  },
  {
   "cell_type": "markdown",
   "id": "0de1eb4a",
   "metadata": {},
   "source": [
    "### Download the .bui files"
   ]
  },
  {
   "cell_type": "code",
   "execution_count": 8,
   "id": "6d909d3f",
   "metadata": {},
   "outputs": [],
   "source": [
    "np.savetxt(f'{folder1}/Subcatchments/default_cal.bui',cal_precip_mean, delimiter = ' ', fmt='%s')"
   ]
  },
  {
   "cell_type": "code",
   "execution_count": 10,
   "id": "e03b6909",
   "metadata": {},
   "outputs": [],
   "source": [
    "np.savetxt(f'{folder1}/Subcatchments/default_val.bui',val_precip_mean, delimiter = ' ', fmt='%s')"
   ]
  },
  {
   "cell_type": "markdown",
   "id": "43a61841",
   "metadata": {},
   "source": [
    "Open the saved .bui file and paste the text in the cell below in the beginning of the .bui file. Manually add and adjusted the start date and time: (difference of one day because of schrikkeljaar). And choose the corresponding time period, so remove the one you do not need."
   ]
  },
  {
   "cell_type": "raw",
   "id": "4c563a60",
   "metadata": {},
   "source": [
    "* Created: 09/10/2023 09:54:00\n",
    "* Use the default data set for other input (always 1) \n",
    "1\n",
    "*Aantal stations\n",
    "6\n",
    "*Namen van stations\n",
    "'Hommerich'\n",
    "'Partij'\n",
    "'Eys'\n",
    "'Sippenaeken'\n",
    "'Meerssen'\n",
    "'Azijnfabriek'\n",
    "* Number of events and the period in seconds \n",
    "1 3600 \n",
    "* The first record contains the start date and time (yyyy mm dd HH mm ss), * followed by the length of the event (dd HH mm ss). \n",
    "* The last part is the data for each time step.\n",
    "2020 01 01 00 00 00 182 01 00 00  ### Calibration period\n",
    "2021 01 01 00 00 00 212 01 00 00  ### Validation period"
   ]
  },
  {
   "cell_type": "markdown",
   "id": "cab30640",
   "metadata": {},
   "source": [
    "## Potential Evaporation "
   ]
  },
  {
   "cell_type": "markdown",
   "id": "318e36aa",
   "metadata": {},
   "source": [
    "### Open the potential evaporation data and select the time periods"
   ]
  },
  {
   "cell_type": "code",
   "execution_count": 11,
   "id": "e295c16c",
   "metadata": {},
   "outputs": [],
   "source": [
    "maastricht_daily = pd.read_csv(f'{folder1}/Maastricht_daily.csv',index_col=[0],parse_dates=[0])\n",
    "maastricht_daily.index.names = ['time']\n",
    "maastricht_daily.tz_localize(None)\n",
    "cal_maastricht_daily = maastricht_daily['2019-01-01':'2020-07-01 00:00:00']\n",
    "val_maastricht_daily = maastricht_daily['2021-01-01':'2021-08-01 00:00:00']"
   ]
  },
  {
   "cell_type": "markdown",
   "id": "f6bd7260",
   "metadata": {},
   "source": [
    "### Create potential evaporation dataframes"
   ]
  },
  {
   "cell_type": "markdown",
   "id": "14cceec7",
   "metadata": {},
   "source": [
    "D-RR wants the potential evaporation as year, month, day, station. The Geul D-RR model consists of 6 stations, which contain equal values in this case."
   ]
  },
  {
   "cell_type": "markdown",
   "id": "fad65239",
   "metadata": {},
   "source": [
    "#### Calibration period"
   ]
  },
  {
   "cell_type": "code",
   "execution_count": 12,
   "id": "97d433bf",
   "metadata": {},
   "outputs": [],
   "source": [
    "maastricht_daily_cal = pd.DataFrame()\n",
    "maastricht_daily_cal['year'] = cal_maastricht_daily.index.year\n",
    "maastricht_daily_cal['month'] = cal_maastricht_daily.index.month\n",
    "maastricht_daily_cal['day'] = cal_maastricht_daily.index.day\n",
    "maastricht_daily_cal['EV1'] = cal_maastricht_daily.values\n",
    "maastricht_daily_cal['EV2'] = cal_maastricht_daily.values\n",
    "maastricht_daily_cal['EV3'] = cal_maastricht_daily.values\n",
    "maastricht_daily_cal['EV4'] = cal_maastricht_daily.values\n",
    "maastricht_daily_cal['EV5'] = cal_maastricht_daily.values\n",
    "maastricht_daily_cal['EV6'] = cal_maastricht_daily.values"
   ]
  },
  {
   "cell_type": "code",
   "execution_count": 13,
   "id": "9b5794d3",
   "metadata": {},
   "outputs": [
    {
     "data": {
      "text/html": [
       "<div>\n",
       "<style scoped>\n",
       "    .dataframe tbody tr th:only-of-type {\n",
       "        vertical-align: middle;\n",
       "    }\n",
       "\n",
       "    .dataframe tbody tr th {\n",
       "        vertical-align: top;\n",
       "    }\n",
       "\n",
       "    .dataframe thead th {\n",
       "        text-align: right;\n",
       "    }\n",
       "</style>\n",
       "<table border=\"1\" class=\"dataframe\">\n",
       "  <thead>\n",
       "    <tr style=\"text-align: right;\">\n",
       "      <th></th>\n",
       "      <th>year</th>\n",
       "      <th>month</th>\n",
       "      <th>day</th>\n",
       "      <th>EV1</th>\n",
       "      <th>EV2</th>\n",
       "      <th>EV3</th>\n",
       "      <th>EV4</th>\n",
       "      <th>EV5</th>\n",
       "      <th>EV6</th>\n",
       "    </tr>\n",
       "  </thead>\n",
       "  <tbody>\n",
       "    <tr>\n",
       "      <th>0</th>\n",
       "      <td>2019</td>\n",
       "      <td>1</td>\n",
       "      <td>1</td>\n",
       "      <td>0.1</td>\n",
       "      <td>0.1</td>\n",
       "      <td>0.1</td>\n",
       "      <td>0.1</td>\n",
       "      <td>0.1</td>\n",
       "      <td>0.1</td>\n",
       "    </tr>\n",
       "    <tr>\n",
       "      <th>1</th>\n",
       "      <td>2019</td>\n",
       "      <td>1</td>\n",
       "      <td>2</td>\n",
       "      <td>0.3</td>\n",
       "      <td>0.3</td>\n",
       "      <td>0.3</td>\n",
       "      <td>0.3</td>\n",
       "      <td>0.3</td>\n",
       "      <td>0.3</td>\n",
       "    </tr>\n",
       "    <tr>\n",
       "      <th>2</th>\n",
       "      <td>2019</td>\n",
       "      <td>1</td>\n",
       "      <td>3</td>\n",
       "      <td>0.2</td>\n",
       "      <td>0.2</td>\n",
       "      <td>0.2</td>\n",
       "      <td>0.2</td>\n",
       "      <td>0.2</td>\n",
       "      <td>0.2</td>\n",
       "    </tr>\n",
       "    <tr>\n",
       "      <th>3</th>\n",
       "      <td>2019</td>\n",
       "      <td>1</td>\n",
       "      <td>4</td>\n",
       "      <td>0.1</td>\n",
       "      <td>0.1</td>\n",
       "      <td>0.1</td>\n",
       "      <td>0.1</td>\n",
       "      <td>0.1</td>\n",
       "      <td>0.1</td>\n",
       "    </tr>\n",
       "    <tr>\n",
       "      <th>4</th>\n",
       "      <td>2019</td>\n",
       "      <td>1</td>\n",
       "      <td>5</td>\n",
       "      <td>0.1</td>\n",
       "      <td>0.1</td>\n",
       "      <td>0.1</td>\n",
       "      <td>0.1</td>\n",
       "      <td>0.1</td>\n",
       "      <td>0.1</td>\n",
       "    </tr>\n",
       "    <tr>\n",
       "      <th>...</th>\n",
       "      <td>...</td>\n",
       "      <td>...</td>\n",
       "      <td>...</td>\n",
       "      <td>...</td>\n",
       "      <td>...</td>\n",
       "      <td>...</td>\n",
       "      <td>...</td>\n",
       "      <td>...</td>\n",
       "      <td>...</td>\n",
       "    </tr>\n",
       "    <tr>\n",
       "      <th>543</th>\n",
       "      <td>2020</td>\n",
       "      <td>6</td>\n",
       "      <td>27</td>\n",
       "      <td>3.4</td>\n",
       "      <td>3.4</td>\n",
       "      <td>3.4</td>\n",
       "      <td>3.4</td>\n",
       "      <td>3.4</td>\n",
       "      <td>3.4</td>\n",
       "    </tr>\n",
       "    <tr>\n",
       "      <th>544</th>\n",
       "      <td>2020</td>\n",
       "      <td>6</td>\n",
       "      <td>28</td>\n",
       "      <td>2.8</td>\n",
       "      <td>2.8</td>\n",
       "      <td>2.8</td>\n",
       "      <td>2.8</td>\n",
       "      <td>2.8</td>\n",
       "      <td>2.8</td>\n",
       "    </tr>\n",
       "    <tr>\n",
       "      <th>545</th>\n",
       "      <td>2020</td>\n",
       "      <td>6</td>\n",
       "      <td>29</td>\n",
       "      <td>3.8</td>\n",
       "      <td>3.8</td>\n",
       "      <td>3.8</td>\n",
       "      <td>3.8</td>\n",
       "      <td>3.8</td>\n",
       "      <td>3.8</td>\n",
       "    </tr>\n",
       "    <tr>\n",
       "      <th>546</th>\n",
       "      <td>2020</td>\n",
       "      <td>6</td>\n",
       "      <td>30</td>\n",
       "      <td>2.8</td>\n",
       "      <td>2.8</td>\n",
       "      <td>2.8</td>\n",
       "      <td>2.8</td>\n",
       "      <td>2.8</td>\n",
       "      <td>2.8</td>\n",
       "    </tr>\n",
       "    <tr>\n",
       "      <th>547</th>\n",
       "      <td>2020</td>\n",
       "      <td>7</td>\n",
       "      <td>1</td>\n",
       "      <td>1.8</td>\n",
       "      <td>1.8</td>\n",
       "      <td>1.8</td>\n",
       "      <td>1.8</td>\n",
       "      <td>1.8</td>\n",
       "      <td>1.8</td>\n",
       "    </tr>\n",
       "  </tbody>\n",
       "</table>\n",
       "<p>548 rows × 9 columns</p>\n",
       "</div>"
      ],
      "text/plain": [
       "     year  month  day  EV1  EV2  EV3  EV4  EV5  EV6\n",
       "0    2019      1    1  0.1  0.1  0.1  0.1  0.1  0.1\n",
       "1    2019      1    2  0.3  0.3  0.3  0.3  0.3  0.3\n",
       "2    2019      1    3  0.2  0.2  0.2  0.2  0.2  0.2\n",
       "3    2019      1    4  0.1  0.1  0.1  0.1  0.1  0.1\n",
       "4    2019      1    5  0.1  0.1  0.1  0.1  0.1  0.1\n",
       "..    ...    ...  ...  ...  ...  ...  ...  ...  ...\n",
       "543  2020      6   27  3.4  3.4  3.4  3.4  3.4  3.4\n",
       "544  2020      6   28  2.8  2.8  2.8  2.8  2.8  2.8\n",
       "545  2020      6   29  3.8  3.8  3.8  3.8  3.8  3.8\n",
       "546  2020      6   30  2.8  2.8  2.8  2.8  2.8  2.8\n",
       "547  2020      7    1  1.8  1.8  1.8  1.8  1.8  1.8\n",
       "\n",
       "[548 rows x 9 columns]"
      ]
     },
     "execution_count": 13,
     "metadata": {},
     "output_type": "execute_result"
    }
   ],
   "source": [
    "maastricht_daily_cal"
   ]
  },
  {
   "cell_type": "markdown",
   "id": "7ba692e8",
   "metadata": {},
   "source": [
    "#### Validation period"
   ]
  },
  {
   "cell_type": "code",
   "execution_count": 14,
   "id": "8fa193c8-4797-4dda-8233-8ae090293acc",
   "metadata": {},
   "outputs": [],
   "source": [
    "maastricht_daily_val = pd.DataFrame()\n",
    "maastricht_daily_val['year'] = val_maastricht_daily.index.year\n",
    "maastricht_daily_val['month'] = val_maastricht_daily.index.month\n",
    "maastricht_daily_val['day'] = val_maastricht_daily.index.day\n",
    "maastricht_daily_val['EV1'] = val_maastricht_daily.values\n",
    "maastricht_daily_val['EV2'] = val_maastricht_daily.values\n",
    "maastricht_daily_val['EV3'] = val_maastricht_daily.values\n",
    "maastricht_daily_val['EV4'] = val_maastricht_daily.values\n",
    "maastricht_daily_val['EV5'] = val_maastricht_daily.values\n",
    "maastricht_daily_val['EV6'] = val_maastricht_daily.values"
   ]
  },
  {
   "cell_type": "code",
   "execution_count": 15,
   "id": "7dae1386-ca72-4e5c-9a1f-8640976c38cf",
   "metadata": {},
   "outputs": [
    {
     "data": {
      "text/html": [
       "<div>\n",
       "<style scoped>\n",
       "    .dataframe tbody tr th:only-of-type {\n",
       "        vertical-align: middle;\n",
       "    }\n",
       "\n",
       "    .dataframe tbody tr th {\n",
       "        vertical-align: top;\n",
       "    }\n",
       "\n",
       "    .dataframe thead th {\n",
       "        text-align: right;\n",
       "    }\n",
       "</style>\n",
       "<table border=\"1\" class=\"dataframe\">\n",
       "  <thead>\n",
       "    <tr style=\"text-align: right;\">\n",
       "      <th></th>\n",
       "      <th>year</th>\n",
       "      <th>month</th>\n",
       "      <th>day</th>\n",
       "      <th>EV1</th>\n",
       "      <th>EV2</th>\n",
       "      <th>EV3</th>\n",
       "      <th>EV4</th>\n",
       "      <th>EV5</th>\n",
       "      <th>EV6</th>\n",
       "    </tr>\n",
       "  </thead>\n",
       "  <tbody>\n",
       "    <tr>\n",
       "      <th>0</th>\n",
       "      <td>2021</td>\n",
       "      <td>1</td>\n",
       "      <td>1</td>\n",
       "      <td>0.3</td>\n",
       "      <td>0.3</td>\n",
       "      <td>0.3</td>\n",
       "      <td>0.3</td>\n",
       "      <td>0.3</td>\n",
       "      <td>0.3</td>\n",
       "    </tr>\n",
       "    <tr>\n",
       "      <th>1</th>\n",
       "      <td>2021</td>\n",
       "      <td>1</td>\n",
       "      <td>2</td>\n",
       "      <td>0.1</td>\n",
       "      <td>0.1</td>\n",
       "      <td>0.1</td>\n",
       "      <td>0.1</td>\n",
       "      <td>0.1</td>\n",
       "      <td>0.1</td>\n",
       "    </tr>\n",
       "    <tr>\n",
       "      <th>2</th>\n",
       "      <td>2021</td>\n",
       "      <td>1</td>\n",
       "      <td>3</td>\n",
       "      <td>0.1</td>\n",
       "      <td>0.1</td>\n",
       "      <td>0.1</td>\n",
       "      <td>0.1</td>\n",
       "      <td>0.1</td>\n",
       "      <td>0.1</td>\n",
       "    </tr>\n",
       "    <tr>\n",
       "      <th>3</th>\n",
       "      <td>2021</td>\n",
       "      <td>1</td>\n",
       "      <td>4</td>\n",
       "      <td>0.1</td>\n",
       "      <td>0.1</td>\n",
       "      <td>0.1</td>\n",
       "      <td>0.1</td>\n",
       "      <td>0.1</td>\n",
       "      <td>0.1</td>\n",
       "    </tr>\n",
       "    <tr>\n",
       "      <th>4</th>\n",
       "      <td>2021</td>\n",
       "      <td>1</td>\n",
       "      <td>5</td>\n",
       "      <td>0.1</td>\n",
       "      <td>0.1</td>\n",
       "      <td>0.1</td>\n",
       "      <td>0.1</td>\n",
       "      <td>0.1</td>\n",
       "      <td>0.1</td>\n",
       "    </tr>\n",
       "    <tr>\n",
       "      <th>...</th>\n",
       "      <td>...</td>\n",
       "      <td>...</td>\n",
       "      <td>...</td>\n",
       "      <td>...</td>\n",
       "      <td>...</td>\n",
       "      <td>...</td>\n",
       "      <td>...</td>\n",
       "      <td>...</td>\n",
       "      <td>...</td>\n",
       "    </tr>\n",
       "    <tr>\n",
       "      <th>208</th>\n",
       "      <td>2021</td>\n",
       "      <td>7</td>\n",
       "      <td>28</td>\n",
       "      <td>3.6</td>\n",
       "      <td>3.6</td>\n",
       "      <td>3.6</td>\n",
       "      <td>3.6</td>\n",
       "      <td>3.6</td>\n",
       "      <td>3.6</td>\n",
       "    </tr>\n",
       "    <tr>\n",
       "      <th>209</th>\n",
       "      <td>2021</td>\n",
       "      <td>7</td>\n",
       "      <td>29</td>\n",
       "      <td>3.3</td>\n",
       "      <td>3.3</td>\n",
       "      <td>3.3</td>\n",
       "      <td>3.3</td>\n",
       "      <td>3.3</td>\n",
       "      <td>3.3</td>\n",
       "    </tr>\n",
       "    <tr>\n",
       "      <th>210</th>\n",
       "      <td>2021</td>\n",
       "      <td>7</td>\n",
       "      <td>30</td>\n",
       "      <td>3.4</td>\n",
       "      <td>3.4</td>\n",
       "      <td>3.4</td>\n",
       "      <td>3.4</td>\n",
       "      <td>3.4</td>\n",
       "      <td>3.4</td>\n",
       "    </tr>\n",
       "    <tr>\n",
       "      <th>211</th>\n",
       "      <td>2021</td>\n",
       "      <td>7</td>\n",
       "      <td>31</td>\n",
       "      <td>2.5</td>\n",
       "      <td>2.5</td>\n",
       "      <td>2.5</td>\n",
       "      <td>2.5</td>\n",
       "      <td>2.5</td>\n",
       "      <td>2.5</td>\n",
       "    </tr>\n",
       "    <tr>\n",
       "      <th>212</th>\n",
       "      <td>2021</td>\n",
       "      <td>8</td>\n",
       "      <td>1</td>\n",
       "      <td>1.9</td>\n",
       "      <td>1.9</td>\n",
       "      <td>1.9</td>\n",
       "      <td>1.9</td>\n",
       "      <td>1.9</td>\n",
       "      <td>1.9</td>\n",
       "    </tr>\n",
       "  </tbody>\n",
       "</table>\n",
       "<p>213 rows × 9 columns</p>\n",
       "</div>"
      ],
      "text/plain": [
       "     year  month  day  EV1  EV2  EV3  EV4  EV5  EV6\n",
       "0    2021      1    1  0.3  0.3  0.3  0.3  0.3  0.3\n",
       "1    2021      1    2  0.1  0.1  0.1  0.1  0.1  0.1\n",
       "2    2021      1    3  0.1  0.1  0.1  0.1  0.1  0.1\n",
       "3    2021      1    4  0.1  0.1  0.1  0.1  0.1  0.1\n",
       "4    2021      1    5  0.1  0.1  0.1  0.1  0.1  0.1\n",
       "..    ...    ...  ...  ...  ...  ...  ...  ...  ...\n",
       "208  2021      7   28  3.6  3.6  3.6  3.6  3.6  3.6\n",
       "209  2021      7   29  3.3  3.3  3.3  3.3  3.3  3.3\n",
       "210  2021      7   30  3.4  3.4  3.4  3.4  3.4  3.4\n",
       "211  2021      7   31  2.5  2.5  2.5  2.5  2.5  2.5\n",
       "212  2021      8    1  1.9  1.9  1.9  1.9  1.9  1.9\n",
       "\n",
       "[213 rows x 9 columns]"
      ]
     },
     "execution_count": 15,
     "metadata": {},
     "output_type": "execute_result"
    }
   ],
   "source": [
    "maastricht_daily_val"
   ]
  },
  {
   "cell_type": "markdown",
   "id": "9b39cce5",
   "metadata": {},
   "source": [
    "### Save the .evp files"
   ]
  },
  {
   "cell_type": "code",
   "execution_count": 15,
   "id": "ad5d751e",
   "metadata": {},
   "outputs": [],
   "source": [
    "np.savetxt(f'{folder1}/Subcatchments/default_cal.evp',maastricht_daily_cal, delimiter = ' ', fmt='%s')"
   ]
  },
  {
   "cell_type": "code",
   "execution_count": 16,
   "id": "7c21ae9c",
   "metadata": {},
   "outputs": [],
   "source": [
    "np.savetxt(f'{folder1}/Subcatchments/default_val.evp',maastricht_daily_val, delimiter = ' ', fmt='%s')"
   ]
  },
  {
   "cell_type": "code",
   "execution_count": null,
   "id": "33f74c50-4c6a-486b-a531-9d6bd895546d",
   "metadata": {},
   "outputs": [],
   "source": []
  }
 ],
 "metadata": {
  "kernelspec": {
   "display_name": "Python 3 (ipykernel)",
   "language": "python",
   "name": "python3"
  },
  "language_info": {
   "codemirror_mode": {
    "name": "ipython",
    "version": 3
   },
   "file_extension": ".py",
   "mimetype": "text/x-python",
   "name": "python",
   "nbconvert_exporter": "python",
   "pygments_lexer": "ipython3",
   "version": "3.10.10"
  }
 },
 "nbformat": 4,
 "nbformat_minor": 5
}
