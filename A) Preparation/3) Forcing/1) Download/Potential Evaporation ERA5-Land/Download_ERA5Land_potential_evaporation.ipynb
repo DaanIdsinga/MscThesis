{
 "cells": [
  {
   "cell_type": "markdown",
   "id": "b536c42a",
   "metadata": {},
   "source": [
    "# Download ERA5-Land Potential Evaporation"
   ]
  },
  {
   "cell_type": "markdown",
   "id": "9a04564e",
   "metadata": {},
   "source": [
    "The ERA5-Land Potential Evaporation is downloaded via this Notebook. For this, the Climate Data Store (CDS) Application Program Interface (API) is used. The installation and the use of the CDS API is explained at https://cds.climate.copernicus.eu/api-how-to .\n",
    "\n",
    "It was the intention to use the ERA5-Land potential evaporation data as input for Wflow_sbm. However, it showed no correspondence to the physical limit of potential evaporation of 6 mm/day in the Netherlands. Therefore it is not used in the research.\n",
    "\n",
    "<I>Note: Each year is downloaded seperately to not exceed the download limit</I>"
   ]
  },
  {
   "cell_type": "markdown",
   "id": "915ba039",
   "metadata": {},
   "source": [
    "## Import the CDS API "
   ]
  },
  {
   "cell_type": "code",
   "execution_count": 2,
   "id": "9c90863f",
   "metadata": {},
   "outputs": [],
   "source": [
    "import cdsapi"
   ]
  },
  {
   "cell_type": "markdown",
   "id": "e9050f7b",
   "metadata": {},
   "source": [
    "## Call the CDS API and your personal key"
   ]
  },
  {
   "cell_type": "code",
   "execution_count": 3,
   "id": "4a1afa4f",
   "metadata": {},
   "outputs": [],
   "source": [
    "c = cdsapi.Client()"
   ]
  },
  {
   "cell_type": "markdown",
   "id": "610ddcfb",
   "metadata": {},
   "source": [
    "## Download the total evaporation for each year "
   ]
  },
  {
   "cell_type": "markdown",
   "id": "97c8c12e",
   "metadata": {},
   "source": [
    "The API request can be created via the CDS website: https://cds.climate.copernicus.eu/cdsapp#!/dataset/reanalysis-era5-land?tab=form. When the requested parameters are selected, you can click on <I>\"Show API request\"</I>. This generates the code below. If you want different parameters or period, you can adjust the code."
   ]
  },
  {
   "cell_type": "code",
   "execution_count": 12,
   "id": "3d9b8027",
   "metadata": {},
   "outputs": [
    {
     "name": "stderr",
     "output_type": "stream",
     "text": [
      "2023-11-01 13:41:49,994 INFO Welcome to the CDS\n",
      "2023-11-01 13:41:49,995 INFO Sending request to https://cds.climate.copernicus.eu/api/v2/resources/reanalysis-era5-land\n",
      "2023-11-01 13:41:50,097 INFO Request is queued\n",
      "2023-11-01 13:41:51,140 INFO Request is running\n",
      "2023-11-01 14:04:13,845 INFO Request is completed\n",
      "2023-11-01 14:04:13,846 INFO Downloading https://download-0009-clone.copernicus-climate.eu/cache-compute-0009/cache/data8/adaptor.mars.internal-1698843784.5554862-26093-13-c31a1d73-6fb5-4b48-8945-e52b005cde0d.nc to 2019.nc (754K)\n",
      "2023-11-01 14:04:14,653 INFO Download rate 934.9K/s                                                                    \n"
     ]
    },
    {
     "data": {
      "text/plain": [
       "Result(content_length=772092,content_type=application/x-netcdf,location=https://download-0009-clone.copernicus-climate.eu/cache-compute-0009/cache/data8/adaptor.mars.internal-1698843784.5554862-26093-13-c31a1d73-6fb5-4b48-8945-e52b005cde0d.nc)"
      ]
     },
     "execution_count": 12,
     "metadata": {},
     "output_type": "execute_result"
    }
   ],
   "source": [
    "c.retrieve(\n",
    "    'reanalysis-era5-land',\n",
    "    {\n",
    "        'format': 'netcdf',\n",
    "        'variable': 'potential_evaporation',\n",
    "        'year': '2019',\n",
    "        'month': [\n",
    "            '01','02','03',\n",
    "            '04','05','06',\n",
    "            '07','08','09',\n",
    "            '10','11','12'\n",
    "        ],\n",
    "        'day': [\n",
    "            '01', '02', '03',\n",
    "            '04', '05', '06',\n",
    "            '07', '08', '09',\n",
    "            '10', '11', '12',\n",
    "            '13', '14', '15',\n",
    "            '16', '17', '18',\n",
    "            '19', '20', '21',\n",
    "            '22', '23', '24',\n",
    "            '25', '26', '27',\n",
    "            '28', '29', '30',\n",
    "            '31',\n",
    "        ],\n",
    "        'time': [\n",
    "            '00:00', '01:00', '02:00',\n",
    "            '03:00', '04:00', '05:00',\n",
    "            '06:00', '07:00', '08:00',\n",
    "            '09:00', '10:00', '11:00',\n",
    "            '12:00', '13:00', '14:00',\n",
    "            '15:00', '16:00', '17:00',\n",
    "            '18:00', '19:00', '20:00',\n",
    "            '21:00', '22:00', '23:00',\n",
    "        ],\n",
    "        'area': [\n",
    "            51, 5.6, 50.5,\n",
    "            6.25,\n",
    "        ],\n",
    "    },\n",
    "    '2019.nc')"
   ]
  },
  {
   "cell_type": "code",
   "execution_count": 13,
   "id": "fb7f346c",
   "metadata": {},
   "outputs": [
    {
     "name": "stderr",
     "output_type": "stream",
     "text": [
      "2023-11-01 14:04:14,702 INFO Welcome to the CDS\n",
      "2023-11-01 14:04:14,703 INFO Sending request to https://cds.climate.copernicus.eu/api/v2/resources/reanalysis-era5-land\n",
      "2023-11-01 14:04:14,774 INFO Request is queued\n",
      "2023-11-01 14:04:15,815 INFO Request is running\n",
      "2023-11-01 14:26:38,332 INFO Request is completed\n",
      "2023-11-01 14:26:38,333 INFO Downloading https://download-0011-clone.copernicus-climate.eu/cache-compute-0011/cache/data0/adaptor.mars.internal-1698845132.2611327-13295-10-126a99fa-ee8e-4e9f-b23e-5f9fd543d4fe.nc to 2020.nc (756.1K)\n",
      "2023-11-01 14:26:39,086 INFO Download rate 1006.2K/s                                                                   \n"
     ]
    },
    {
     "data": {
      "text/plain": [
       "Result(content_length=774204,content_type=application/x-netcdf,location=https://download-0011-clone.copernicus-climate.eu/cache-compute-0011/cache/data0/adaptor.mars.internal-1698845132.2611327-13295-10-126a99fa-ee8e-4e9f-b23e-5f9fd543d4fe.nc)"
      ]
     },
     "execution_count": 13,
     "metadata": {},
     "output_type": "execute_result"
    }
   ],
   "source": [
    "c.retrieve(\n",
    "    'reanalysis-era5-land',\n",
    "    {\n",
    "        'format': 'netcdf',\n",
    "        'variable': 'potential_evaporation',\n",
    "        'year': '2020',\n",
    "        'month': [\n",
    "            '01','02','03',\n",
    "            '04','05','06',\n",
    "            '07','08','09',\n",
    "            '10','11','12'\n",
    "        ],\n",
    "        'day': [\n",
    "            '01', '02', '03',\n",
    "            '04', '05', '06',\n",
    "            '07', '08', '09',\n",
    "            '10', '11', '12',\n",
    "            '13', '14', '15',\n",
    "            '16', '17', '18',\n",
    "            '19', '20', '21',\n",
    "            '22', '23', '24',\n",
    "            '25', '26', '27',\n",
    "            '28', '29', '30',\n",
    "            '31',\n",
    "        ],\n",
    "        'time': [\n",
    "            '00:00', '01:00', '02:00',\n",
    "            '03:00', '04:00', '05:00',\n",
    "            '06:00', '07:00', '08:00',\n",
    "            '09:00', '10:00', '11:00',\n",
    "            '12:00', '13:00', '14:00',\n",
    "            '15:00', '16:00', '17:00',\n",
    "            '18:00', '19:00', '20:00',\n",
    "            '21:00', '22:00', '23:00',\n",
    "        ],\n",
    "        'area': [\n",
    "            51, 5.6, 50.5,\n",
    "            6.25,\n",
    "        ],\n",
    "    },\n",
    "    '2020.nc')"
   ]
  },
  {
   "cell_type": "code",
   "execution_count": 14,
   "id": "ced8e47c",
   "metadata": {},
   "outputs": [
    {
     "name": "stderr",
     "output_type": "stream",
     "text": [
      "2023-11-01 14:26:39,134 INFO Welcome to the CDS\n",
      "2023-11-01 14:26:39,135 INFO Sending request to https://cds.climate.copernicus.eu/api/v2/resources/reanalysis-era5-land\n",
      "2023-11-01 14:26:39,205 INFO Request is queued\n",
      "2023-11-01 14:29:30,653 INFO Request is running\n",
      "2023-11-01 14:51:03,558 INFO Request is completed\n",
      "2023-11-01 14:51:03,559 INFO Downloading https://download-0020.copernicus-climate.eu/cache-compute-0020/cache/data2/adaptor.mars.internal-1698846589.2698936-26574-6-216af143-9c7c-47e0-91c7-2d5b151fe6a7.nc to 2021.nc (754K)\n",
      "2023-11-01 14:51:04,357 INFO Download rate 945.7K/s                                                                    \n"
     ]
    },
    {
     "data": {
      "text/plain": [
       "Result(content_length=772088,content_type=application/x-netcdf,location=https://download-0020.copernicus-climate.eu/cache-compute-0020/cache/data2/adaptor.mars.internal-1698846589.2698936-26574-6-216af143-9c7c-47e0-91c7-2d5b151fe6a7.nc)"
      ]
     },
     "execution_count": 14,
     "metadata": {},
     "output_type": "execute_result"
    }
   ],
   "source": [
    "c.retrieve(\n",
    "    'reanalysis-era5-land',\n",
    "    {\n",
    "        'format': 'potential_evaporation',\n",
    "        'year': '2021',\n",
    "        'month': [\n",
    "            '01','02','03',\n",
    "            '04','05','06',\n",
    "            '07','08','09',\n",
    "            '10','11','12'\n",
    "        ],\n",
    "        'day': [\n",
    "            '01', '02', '03',\n",
    "            '04', '05', '06',\n",
    "            '07', '08', '09',\n",
    "            '10', '11', '12',\n",
    "            '13', '14', '15',\n",
    "            '16', '17', '18',\n",
    "            '19', '20', '21',\n",
    "            '22', '23', '24',\n",
    "            '25', '26', '27',\n",
    "            '28', '29', '30',\n",
    "            '31',\n",
    "        ],\n",
    "        'time': [\n",
    "            '00:00', '01:00', '02:00',\n",
    "            '03:00', '04:00', '05:00',\n",
    "            '06:00', '07:00', '08:00',\n",
    "            '09:00', '10:00', '11:00',\n",
    "            '12:00', '13:00', '14:00',\n",
    "            '15:00', '16:00', '17:00',\n",
    "            '18:00', '19:00', '20:00',\n",
    "            '21:00', '22:00', '23:00',\n",
    "        ],\n",
    "        'area': [\n",
    "            51, 5.6, 50.5,\n",
    "            6.25,\n",
    "        ],\n",
    "    },\n",
    "    '2021.nc')"
   ]
  },
  {
   "cell_type": "code",
   "execution_count": 15,
   "id": "ec5d1b05",
   "metadata": {},
   "outputs": [
    {
     "name": "stderr",
     "output_type": "stream",
     "text": [
      "2023-11-01 14:51:04,400 INFO Welcome to the CDS\n",
      "2023-11-01 14:51:04,400 INFO Sending request to https://cds.climate.copernicus.eu/api/v2/resources/reanalysis-era5-land\n",
      "2023-11-01 14:51:04,440 INFO Request is queued\n",
      "2023-11-01 14:51:09,290 INFO Request is running\n",
      "2023-11-01 15:13:27,852 INFO Request is completed\n",
      "2023-11-01 15:13:27,853 INFO Downloading https://download-0012-clone.copernicus-climate.eu/cache-compute-0012/cache/data5/adaptor.mars.internal-1698847968.1262302-27666-19-c8a68775-ca27-4de1-bf46-f83b50b3c44b.nc to 2022.nc (754K)\n",
      "2023-11-01 15:13:28,638 INFO Download rate 962.6K/s                                                                    \n"
     ]
    },
    {
     "data": {
      "text/plain": [
       "Result(content_length=772092,content_type=application/x-netcdf,location=https://download-0012-clone.copernicus-climate.eu/cache-compute-0012/cache/data5/adaptor.mars.internal-1698847968.1262302-27666-19-c8a68775-ca27-4de1-bf46-f83b50b3c44b.nc)"
      ]
     },
     "execution_count": 15,
     "metadata": {},
     "output_type": "execute_result"
    }
   ],
   "source": [
    "c.retrieve(\n",
    "    'reanalysis-era5-land',\n",
    "    {\n",
    "        'format': 'netcdf',\n",
    "        'variable': 'potential_evaporation',\n",
    "        'year': '2022',\n",
    "        'month': [\n",
    "            '01','02','03',\n",
    "            '04'\n",
    "        ],\n",
    "        'day': [\n",
    "            '01', '02', '03',\n",
    "            '04', '05', '06',\n",
    "            '07', '08', '09',\n",
    "            '10', '11', '12',\n",
    "            '13', '14', '15',\n",
    "            '16', '17', '18',\n",
    "            '19', '20', '21',\n",
    "            '22', '23', '24',\n",
    "            '25', '26', '27',\n",
    "            '28', '29', '30',\n",
    "            '31',\n",
    "        ],\n",
    "        'time': [\n",
    "            '00:00', '01:00', '02:00',\n",
    "            '03:00', '04:00', '05:00',\n",
    "            '06:00', '07:00', '08:00',\n",
    "            '09:00', '10:00', '11:00',\n",
    "            '12:00', '13:00', '14:00',\n",
    "            '15:00', '16:00', '17:00',\n",
    "            '18:00', '19:00', '20:00',\n",
    "            '21:00', '22:00', '23:00',\n",
    "        ],\n",
    "        'area': [\n",
    "            51, 5.6, 50.5,\n",
    "            6.25,\n",
    "        ],\n",
    "    },\n",
    "    '2022.nc')"
   ]
  },
  {
   "cell_type": "code",
   "execution_count": null,
   "id": "884c2701",
   "metadata": {},
   "outputs": [],
   "source": []
  }
 ],
 "metadata": {
  "kernelspec": {
   "display_name": "Python 3 (ipykernel)",
   "language": "python",
   "name": "python3"
  },
  "language_info": {
   "codemirror_mode": {
    "name": "ipython",
    "version": 3
   },
   "file_extension": ".py",
   "mimetype": "text/x-python",
   "name": "python",
   "nbconvert_exporter": "python",
   "pygments_lexer": "ipython3",
   "version": "3.10.10"
  }
 },
 "nbformat": 4,
 "nbformat_minor": 5
}
