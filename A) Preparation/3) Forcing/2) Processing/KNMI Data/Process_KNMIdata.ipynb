{
 "cells": [
  {
   "cell_type": "markdown",
   "id": "ceb037b3",
   "metadata": {},
   "source": [
    "# Process KNMI data for forcing analysis"
   ]
  },
  {
   "cell_type": "markdown",
   "id": "eb22dae4",
   "metadata": {},
   "source": [
    "In this Notebook, the downloaded precipitation and potential evaporation data of the KNMI Maastricht weather station are processed. The data is made ready for the analysis. The potential evaporation data is used as forcing of the hydrological models and is converted to raster data."
   ]
  },
  {
   "cell_type": "markdown",
   "id": "0a83c560",
   "metadata": {},
   "source": [
    "## Import required packages "
   ]
  },
  {
   "cell_type": "code",
   "execution_count": 1,
   "id": "9dea3844",
   "metadata": {},
   "outputs": [],
   "source": [
    "import numpy as np\n",
    "import pandas as pd\n",
    "import xarray as xr\n",
    "import matplotlib.pyplot as plt\n",
    "import datetime\n",
    "from datetime import timedelta"
   ]
  },
  {
   "cell_type": "markdown",
   "id": "699b7124",
   "metadata": {},
   "source": [
    "## Precipitation"
   ]
  },
  {
   "cell_type": "markdown",
   "id": "62afaf34",
   "metadata": {},
   "source": [
    "### Load in the hourly data of the Maastricht weather station"
   ]
  },
  {
   "cell_type": "markdown",
   "id": "54c28045",
   "metadata": {},
   "source": [
    "The KNMI data of the Maastricht weather station is loaded. It consists of two files, each for a 10 year time period"
   ]
  },
  {
   "cell_type": "code",
   "execution_count": 2,
   "id": "3e6bd115",
   "metadata": {},
   "outputs": [],
   "source": [
    "folder = r\"C:\\Users\\924259\\OneDrive - Royal HaskoningDHV\\Documents\\Master thesis Daan Idsinga\\Data\\Precipitation - NRR\""
   ]
  },
  {
   "cell_type": "code",
   "execution_count": 3,
   "id": "e4984f55",
   "metadata": {},
   "outputs": [],
   "source": [
    "data1 = pd.read_csv(f'{folder}/uurgeg_380_2011-2020.txt',skiprows=31,index_col=[0],skipinitialspace=True,delimiter=',')\n",
    "data2 = pd.read_csv(f'{folder}/uurgeg_380_2021-2030.txt',skiprows=31,index_col=[0],skipinitialspace=True,delimiter=',')"
   ]
  },
  {
   "cell_type": "markdown",
   "id": "e46cb6c0",
   "metadata": {},
   "source": [
    "### Convert precipitation to mm and remove the negative values "
   ]
  },
  {
   "cell_type": "markdown",
   "id": "d42a3d31",
   "metadata": {},
   "source": [
    "The unit of the precipitation is 0.1 mm, so it should be converted to mm by dividing the values by 10. Also the negative values are removed, which is physical not possible, and are replaced by zeros"
   ]
  },
  {
   "cell_type": "code",
   "execution_count": 4,
   "id": "4df7a740",
   "metadata": {},
   "outputs": [],
   "source": [
    "data1['RH'] = data1['RH']/10\n",
    "data1.loc[data1.RH < 0, 'RH'] = 0\n",
    "\n",
    "data2['RH'] = data2['RH']/10\n",
    "data2.loc[data2.RH < 0, 'RH'] = 0"
   ]
  },
  {
   "cell_type": "markdown",
   "id": "6de54961",
   "metadata": {},
   "source": [
    "### Create a datetime column based on the date and hour information given in the files"
   ]
  },
  {
   "cell_type": "markdown",
   "id": "f807bf60",
   "metadata": {},
   "source": [
    "The given date information is given in two columns of YYYYMMDD and HH. Those columns are combined and converted to datetime values. This makes it possible to combine the files of the two data periods"
   ]
  },
  {
   "cell_type": "code",
   "execution_count": 5,
   "id": "98a36387",
   "metadata": {},
   "outputs": [],
   "source": [
    "# Convert 'YYYYMMDD' and 'HH' columns to strings if they are not already.\n",
    "data1['YYYYMMDD'] = data1['YYYYMMDD'].astype(str)\n",
    "data1['HH'] = data1['HH'].astype(int)  # Convert 'HH' to integer\n",
    "\n",
    "# Handle \"24\" hour by incrementing the date and setting hour to \"00\"\n",
    "mask = data1['HH'] == 24\n",
    "data1.loc[mask, 'HH'] = 0\n",
    "data1.loc[mask, 'YYYYMMDD'] = (pd.to_datetime(data1.loc[mask, 'YYYYMMDD'], format='%Y%m%d') + pd.DateOffset(days=1)).dt.strftime('%Y%m%d')\n",
    "\n",
    "# Combine 'YYYYMMDD' and 'HH' columns into a single datetime column\n",
    "data1['Datetime'] = pd.to_datetime(data1['YYYYMMDD'] + data1['HH'].apply(lambda x: str(x).zfill(2)), format='%Y%m%d%H', errors='coerce')\n",
    "\n",
    "# Handle the last hour of the month\n",
    "mask_last_hour_last_day = (data1['HH'] == 0) & (data1['Datetime'].dt.is_month_end)\n",
    "data1.loc[mask_last_hour_last_day, 'Datetime'] = data1.loc[mask_last_hour_last_day, 'Datetime'] + pd.DateOffset(days=1)\n",
    "\n",
    "# Zero-pad the 'HH' column\n",
    "data1['HH'] = data1['HH'].apply(lambda x: str(x).zfill(2))\n",
    "\n",
    "# The 'Datetime' column will contain the combined datetime values."
   ]
  },
  {
   "cell_type": "code",
   "execution_count": 6,
   "id": "e0ccbe12",
   "metadata": {},
   "outputs": [],
   "source": [
    "# Convert 'YYYYMMDD' and 'HH' columns to strings if they are not already.\n",
    "data2['YYYYMMDD'] = data2['YYYYMMDD'].astype(str)\n",
    "data2['HH'] = data2['HH'].astype(int)  # Convert 'HH' to integer\n",
    "\n",
    "# Handle \"24\" hour by incrementing the date and setting hour to \"00\"\n",
    "mask = data2['HH'] == 24\n",
    "data2.loc[mask, 'HH'] = 0\n",
    "data2.loc[mask, 'YYYYMMDD'] = (pd.to_datetime(data2.loc[mask, 'YYYYMMDD'], format='%Y%m%d') + pd.DateOffset(days=1)).dt.strftime('%Y%m%d')\n",
    "\n",
    "# Combine 'YYYYMMDD' and 'HH' columns into a single datetime column\n",
    "data2['Datetime'] = pd.to_datetime(data2['YYYYMMDD'] + data2['HH'].apply(lambda x: str(x).zfill(2)), format='%Y%m%d%H', errors='coerce')\n",
    "\n",
    "# Handle the last hour of the month\n",
    "mask_last_hour_last_day = (data2['HH'] == 0) & (data2['Datetime'].dt.is_month_end)\n",
    "data2.loc[mask_last_hour_last_day, 'Datetime'] = data2.loc[mask_last_hour_last_day, 'Datetime'] + pd.DateOffset(days=1)\n",
    "\n",
    "# Zero-pad the 'HH' column\n",
    "data2['HH'] = data2['HH'].apply(lambda x: str(x).zfill(2))\n",
    "\n",
    "# The 'Datetime' column will contain the combined datetime values."
   ]
  },
  {
   "cell_type": "markdown",
   "id": "ee9f5e14",
   "metadata": {},
   "source": [
    "### Create dataframes of the precipitation values"
   ]
  },
  {
   "cell_type": "markdown",
   "id": "a9be0144",
   "metadata": {},
   "source": [
    "The precipitation data consists of two data periods, which have to be combined."
   ]
  },
  {
   "cell_type": "markdown",
   "id": "776ce27a",
   "metadata": {},
   "source": [
    "#### Dataframe of the first data period"
   ]
  },
  {
   "cell_type": "code",
   "execution_count": 7,
   "id": "a8ed15a7",
   "metadata": {},
   "outputs": [],
   "source": [
    "x = pd.DataFrame()\n",
    "\n",
    "x['Datetime'] = data1.Datetime.values\n",
    "x['Precipitation'] = data1.RH.values\n",
    "x.set_index('Datetime',inplace=True)\n",
    "x = x.loc['2019-01-01':]"
   ]
  },
  {
   "cell_type": "markdown",
   "id": "49afaa60",
   "metadata": {},
   "source": [
    "#### Dataframe of the second data period"
   ]
  },
  {
   "cell_type": "code",
   "execution_count": 8,
   "id": "a357273e",
   "metadata": {},
   "outputs": [
    {
     "name": "stderr",
     "output_type": "stream",
     "text": [
      "C:\\Users\\924259\\AppData\\Local\\Temp\\ipykernel_5816\\1492467529.py:6: FutureWarning: Value based partial slicing on non-monotonic DatetimeIndexes with non-existing keys is deprecated and will raise a KeyError in a future Version.\n",
      "  y = y.loc['2021-01-01':'2022-04-01']\n"
     ]
    }
   ],
   "source": [
    "y = pd.DataFrame()\n",
    "\n",
    "y['Datetime'] = data2.Datetime.values\n",
    "y['Precipitation'] = data2.RH.values\n",
    "y.set_index('Datetime', inplace=True)\n",
    "y = y.loc['2021-01-01':'2022-04-01']"
   ]
  },
  {
   "cell_type": "markdown",
   "id": "1510c94f",
   "metadata": {},
   "source": [
    "### Combine the two data periods"
   ]
  },
  {
   "cell_type": "code",
   "execution_count": 9,
   "id": "982a590a",
   "metadata": {},
   "outputs": [],
   "source": [
    "maastricht = pd.concat([x,y])"
   ]
  },
  {
   "cell_type": "markdown",
   "id": "07b131b6",
   "metadata": {},
   "source": [
    "### Check data"
   ]
  },
  {
   "cell_type": "code",
   "execution_count": 11,
   "id": "e772c22b",
   "metadata": {
    "scrolled": false
   },
   "outputs": [
    {
     "data": {
      "text/plain": [
       "<Axes: xlabel='Datetime'>"
      ]
     },
     "execution_count": 11,
     "metadata": {},
     "output_type": "execute_result"
    },
    {
     "data": {
      "image/png": "[encoded data removed]",
      "text/plain": [
       "<Figure size 640x480 with 1 Axes>"
      ]
     },
     "metadata": {},
     "output_type": "display_data"
    }
   ],
   "source": [
    "maastricht.plot()"
   ]
  },
  {
   "cell_type": "markdown",
   "id": "3405b706",
   "metadata": {},
   "source": [
    "### Convert to UTC timezone"
   ]
  },
  {
   "cell_type": "markdown",
   "id": "9131005a",
   "metadata": {},
   "source": [
    "The KNMI data is provided in UTC +1, so to be consistent with the timeperiod, the timeperiod should be changed to UTC +0 by subtracting 1 hour of the index"
   ]
  },
  {
   "cell_type": "code",
   "execution_count": 12,
   "id": "b5da0854",
   "metadata": {},
   "outputs": [],
   "source": [
    "maastricht.index = maastricht.index - timedelta(hours=1)"
   ]
  },
  {
   "cell_type": "markdown",
   "id": "a47ad165",
   "metadata": {},
   "source": [
    "### Select correct time frame"
   ]
  },
  {
   "cell_type": "code",
   "execution_count": 13,
   "id": "f43c261f",
   "metadata": {},
   "outputs": [],
   "source": [
    "maastricht = maastricht['2019-01-01':'2022-04-01 00:00:00']"
   ]
  },
  {
   "cell_type": "markdown",
   "id": "b4ea33c2",
   "metadata": {},
   "source": [
    "### Check precipitation data"
   ]
  },
  {
   "cell_type": "code",
   "execution_count": 14,
   "id": "be4b08e5",
   "metadata": {},
   "outputs": [
    {
     "data": {
      "text/html": [
       "<div>\n",
       "<style scoped>\n",
       "    .dataframe tbody tr th:only-of-type {\n",
       "        vertical-align: middle;\n",
       "    }\n",
       "\n",
       "    .dataframe tbody tr th {\n",
       "        vertical-align: top;\n",
       "    }\n",
       "\n",
       "    .dataframe thead th {\n",
       "        text-align: right;\n",
       "    }\n",
       "</style>\n",
       "<table border=\"1\" class=\"dataframe\">\n",
       "  <thead>\n",
       "    <tr style=\"text-align: right;\">\n",
       "      <th></th>\n",
       "      <th>Precipitation</th>\n",
       "    </tr>\n",
       "    <tr>\n",
       "      <th>Datetime</th>\n",
       "      <th></th>\n",
       "    </tr>\n",
       "  </thead>\n",
       "  <tbody>\n",
       "    <tr>\n",
       "      <th>2019-01-01 00:00:00</th>\n",
       "      <td>0.0</td>\n",
       "    </tr>\n",
       "    <tr>\n",
       "      <th>2019-01-01 01:00:00</th>\n",
       "      <td>0.0</td>\n",
       "    </tr>\n",
       "    <tr>\n",
       "      <th>2019-01-01 02:00:00</th>\n",
       "      <td>0.1</td>\n",
       "    </tr>\n",
       "    <tr>\n",
       "      <th>2019-01-01 03:00:00</th>\n",
       "      <td>0.2</td>\n",
       "    </tr>\n",
       "    <tr>\n",
       "      <th>2019-01-01 04:00:00</th>\n",
       "      <td>0.0</td>\n",
       "    </tr>\n",
       "    <tr>\n",
       "      <th>...</th>\n",
       "      <td>...</td>\n",
       "    </tr>\n",
       "    <tr>\n",
       "      <th>2022-03-31 20:00:00</th>\n",
       "      <td>0.0</td>\n",
       "    </tr>\n",
       "    <tr>\n",
       "      <th>2022-03-31 21:00:00</th>\n",
       "      <td>0.0</td>\n",
       "    </tr>\n",
       "    <tr>\n",
       "      <th>2022-03-31 22:00:00</th>\n",
       "      <td>0.0</td>\n",
       "    </tr>\n",
       "    <tr>\n",
       "      <th>2022-03-31 23:00:00</th>\n",
       "      <td>0.0</td>\n",
       "    </tr>\n",
       "    <tr>\n",
       "      <th>2022-04-01 00:00:00</th>\n",
       "      <td>0.6</td>\n",
       "    </tr>\n",
       "  </tbody>\n",
       "</table>\n",
       "<p>28465 rows × 1 columns</p>\n",
       "</div>"
      ],
      "text/plain": [
       "                     Precipitation\n",
       "Datetime                          \n",
       "2019-01-01 00:00:00            0.0\n",
       "2019-01-01 01:00:00            0.0\n",
       "2019-01-01 02:00:00            0.1\n",
       "2019-01-01 03:00:00            0.2\n",
       "2019-01-01 04:00:00            0.0\n",
       "...                            ...\n",
       "2022-03-31 20:00:00            0.0\n",
       "2022-03-31 21:00:00            0.0\n",
       "2022-03-31 22:00:00            0.0\n",
       "2022-03-31 23:00:00            0.0\n",
       "2022-04-01 00:00:00            0.6\n",
       "\n",
       "[28465 rows x 1 columns]"
      ]
     },
     "execution_count": 14,
     "metadata": {},
     "output_type": "execute_result"
    }
   ],
   "source": [
    "maastricht"
   ]
  },
  {
   "cell_type": "markdown",
   "id": "94ac0223",
   "metadata": {},
   "source": [
    "### Save the Maastricht precipitation data"
   ]
  },
  {
   "cell_type": "code",
   "execution_count": 15,
   "id": "25862ff4",
   "metadata": {},
   "outputs": [],
   "source": [
    "maastricht.to_csv(f'{folder}/Maastricht_Precipitation.csv')"
   ]
  },
  {
   "cell_type": "markdown",
   "id": "467cf851",
   "metadata": {},
   "source": [
    "## Evaporation"
   ]
  },
  {
   "cell_type": "markdown",
   "id": "fb904515",
   "metadata": {},
   "source": [
    "### Load the potential evaporation data"
   ]
  },
  {
   "cell_type": "code",
   "execution_count": 15,
   "id": "c05a8fae",
   "metadata": {},
   "outputs": [],
   "source": [
    "evap = pd.read_csv(f'{folder}/result.txt',skiprows=8,index_col=[0],skipinitialspace=True,delimiter=',')"
   ]
  },
  {
   "cell_type": "markdown",
   "id": "a408fcbe",
   "metadata": {},
   "source": [
    "### Convert to mm"
   ]
  },
  {
   "cell_type": "markdown",
   "id": "7890b723",
   "metadata": {},
   "source": [
    "The potential evaporation is given in 0.1 mm, so it should be converted to mm by dividing the values by 10"
   ]
  },
  {
   "cell_type": "code",
   "execution_count": 16,
   "id": "4f7f1e7a",
   "metadata": {},
   "outputs": [],
   "source": [
    "evap['EV24'] = evap['EV24']/10"
   ]
  },
  {
   "cell_type": "markdown",
   "id": "ba163580",
   "metadata": {},
   "source": [
    "### Set the date index as datetimes"
   ]
  },
  {
   "cell_type": "code",
   "execution_count": 17,
   "id": "39a91203",
   "metadata": {},
   "outputs": [],
   "source": [
    "evap.set_index('YYYYMMDD',inplace = True)\n",
    "evap.index = pd.to_datetime(evap.index, format='%Y%m%d')\n",
    "evap.index = evap.index.strftime('%Y-%m-%d')\n",
    "evap.index = pd.to_datetime(evap.index)"
   ]
  },
  {
   "cell_type": "markdown",
   "id": "d0ab6e69",
   "metadata": {},
   "source": [
    "### Check data"
   ]
  },
  {
   "cell_type": "code",
   "execution_count": 19,
   "id": "94e4d356",
   "metadata": {},
   "outputs": [
    {
     "data": {
      "text/plain": [
       "<Axes: xlabel='YYYYMMDD'>"
      ]
     },
     "execution_count": 19,
     "metadata": {},
     "output_type": "execute_result"
    },
    {
     "data": {
      "image/png": "[encoded data removed]",
      "text/plain": [
       "<Figure size 640x480 with 1 Axes>"
      ]
     },
     "metadata": {},
     "output_type": "display_data"
    }
   ],
   "source": [
    "evap.plot()"
   ]
  },
  {
   "cell_type": "markdown",
   "id": "9be8d781",
   "metadata": {},
   "source": [
    "### Convert the daily data to hourly data"
   ]
  },
  {
   "cell_type": "markdown",
   "id": "814b27af",
   "metadata": {},
   "source": [
    "The hourly data has the same amount of potential evaporation over the day"
   ]
  },
  {
   "cell_type": "code",
   "execution_count": 20,
   "id": "c1ddd456",
   "metadata": {},
   "outputs": [],
   "source": [
    "evap_hourly = evap.resample('H').asfreq().ffill()\n",
    "evap_hourly = evap_hourly/24\n",
    "evap_hourly = evap_hourly['2019-01-01':'2022-04-01 00:00:00']"
   ]
  },
  {
   "cell_type": "markdown",
   "id": "d75cc215",
   "metadata": {},
   "source": [
    "### Check data"
   ]
  },
  {
   "cell_type": "code",
   "execution_count": 21,
   "id": "d17ef371",
   "metadata": {},
   "outputs": [
    {
     "data": {
      "text/plain": [
       "<Axes: xlabel='YYYYMMDD'>"
      ]
     },
     "execution_count": 21,
     "metadata": {},
     "output_type": "execute_result"
    },
    {
     "data": {
      "image/png": "[encoded data removed]",
      "text/plain": [
       "<Figure size 640x480 with 1 Axes>"
      ]
     },
     "metadata": {},
     "output_type": "display_data"
    }
   ],
   "source": [
    "evap_hourly.plot()"
   ]
  },
  {
   "cell_type": "code",
   "execution_count": 22,
   "id": "a2e8ca60",
   "metadata": {},
   "outputs": [
    {
     "data": {
      "text/html": [
       "<div>\n",
       "<style scoped>\n",
       "    .dataframe tbody tr th:only-of-type {\n",
       "        vertical-align: middle;\n",
       "    }\n",
       "\n",
       "    .dataframe tbody tr th {\n",
       "        vertical-align: top;\n",
       "    }\n",
       "\n",
       "    .dataframe thead th {\n",
       "        text-align: right;\n",
       "    }\n",
       "</style>\n",
       "<table border=\"1\" class=\"dataframe\">\n",
       "  <thead>\n",
       "    <tr style=\"text-align: right;\">\n",
       "      <th></th>\n",
       "      <th>EV24</th>\n",
       "    </tr>\n",
       "    <tr>\n",
       "      <th>YYYYMMDD</th>\n",
       "      <th></th>\n",
       "    </tr>\n",
       "  </thead>\n",
       "  <tbody>\n",
       "    <tr>\n",
       "      <th>2019-01-01 00:00:00</th>\n",
       "      <td>0.004167</td>\n",
       "    </tr>\n",
       "    <tr>\n",
       "      <th>2019-01-01 01:00:00</th>\n",
       "      <td>0.004167</td>\n",
       "    </tr>\n",
       "    <tr>\n",
       "      <th>2019-01-01 02:00:00</th>\n",
       "      <td>0.004167</td>\n",
       "    </tr>\n",
       "    <tr>\n",
       "      <th>2019-01-01 03:00:00</th>\n",
       "      <td>0.004167</td>\n",
       "    </tr>\n",
       "    <tr>\n",
       "      <th>2019-01-01 04:00:00</th>\n",
       "      <td>0.004167</td>\n",
       "    </tr>\n",
       "    <tr>\n",
       "      <th>...</th>\n",
       "      <td>...</td>\n",
       "    </tr>\n",
       "    <tr>\n",
       "      <th>2022-03-31 20:00:00</th>\n",
       "      <td>0.012500</td>\n",
       "    </tr>\n",
       "    <tr>\n",
       "      <th>2022-03-31 21:00:00</th>\n",
       "      <td>0.012500</td>\n",
       "    </tr>\n",
       "    <tr>\n",
       "      <th>2022-03-31 22:00:00</th>\n",
       "      <td>0.012500</td>\n",
       "    </tr>\n",
       "    <tr>\n",
       "      <th>2022-03-31 23:00:00</th>\n",
       "      <td>0.012500</td>\n",
       "    </tr>\n",
       "    <tr>\n",
       "      <th>2022-04-01 00:00:00</th>\n",
       "      <td>0.008333</td>\n",
       "    </tr>\n",
       "  </tbody>\n",
       "</table>\n",
       "<p>28465 rows × 1 columns</p>\n",
       "</div>"
      ],
      "text/plain": [
       "                         EV24\n",
       "YYYYMMDD                     \n",
       "2019-01-01 00:00:00  0.004167\n",
       "2019-01-01 01:00:00  0.004167\n",
       "2019-01-01 02:00:00  0.004167\n",
       "2019-01-01 03:00:00  0.004167\n",
       "2019-01-01 04:00:00  0.004167\n",
       "...                       ...\n",
       "2022-03-31 20:00:00  0.012500\n",
       "2022-03-31 21:00:00  0.012500\n",
       "2022-03-31 22:00:00  0.012500\n",
       "2022-03-31 23:00:00  0.012500\n",
       "2022-04-01 00:00:00  0.008333\n",
       "\n",
       "[28465 rows x 1 columns]"
      ]
     },
     "execution_count": 22,
     "metadata": {},
     "output_type": "execute_result"
    }
   ],
   "source": [
    "evap_hourly"
   ]
  },
  {
   "cell_type": "markdown",
   "id": "d0e19b6d",
   "metadata": {},
   "source": [
    "### Create rasterdata"
   ]
  },
  {
   "cell_type": "code",
   "execution_count": 24,
   "id": "e71532e7",
   "metadata": {},
   "outputs": [],
   "source": [
    "y = np.array([50.9175,50.909167,50.900833,50.8925,50.884167,50.875833,50.8675,50.859167,50.850833,50.8425,50.834167,\n",
    "              50.825833,50.8175,50.809167,50.800833,50.7925,50.784167,50.775833,50.7675,50.759167,50.750833,50.7425,\n",
    "              50.734167,50.725833,50.7175,50.709167,50.700833,50.6925,50.684167,50.675833,50.6675,50.659167,50.650833])\n",
    "x = np.array([5.718333,5.726667,5.735,5.743333,5.751667,5.76,5.768333,5.776667,5.785,5.793333,5.801667,5.81,5.818333,\n",
    "              5.826667,5.835,5.843333,5.851667,5.86,5.868333,5.876667,5.885,5.893333,5.901667,5.91,5.918333,5.926667,\n",
    "              5.935,5.943333,5.951667,5.96,5.968333,5.976667,5.985,5.993333,6.001667,6.01,6.018333,6.026667,6.035,\n",
    "              6.043333,6.051667,6.06,6.068333,6.076667,6.085,6.093333,6.101667,6.11,6.118333,6.126667])\n",
    "\n",
    "time = np.array(evap_hourly.index)\n",
    "\n",
    "coords = {'time': time, 'y': y, 'x': x}\n",
    "dims = ['time', 'y', 'x']\n",
    "\n",
    "data = np.zeros((len(time),len(y),len(x))) "
   ]
  },
  {
   "cell_type": "code",
   "execution_count": 25,
   "id": "db50cba9",
   "metadata": {},
   "outputs": [],
   "source": [
    "ds = xr.Dataset({'potential_evaporation': (dims, data)}, coords=coords,attrs={'units': 'mm/h'} )\n",
    "evap_hourly_array = evap_hourly.to_numpy().reshape((len(time), 1, 1))\n",
    "ds['potential_evaporation'][:] = evap_hourly_array"
   ]
  },
  {
   "cell_type": "code",
   "execution_count": 26,
   "id": "1856a15a",
   "metadata": {},
   "outputs": [
    {
     "data": {
      "text/html": [
       "<div><svg style=\"position: absolute; width: 0; height: 0; overflow: hidden\">\n",
       "<defs>\n",
       "<symbol id=\"icon-database\" viewBox=\"0 0 32 32\">\n",
       "<path d=\"M16 0c-8.837 0-16 2.239-16 5v4c0 2.761 7.163 5 16 5s16-2.239 16-5v-4c0-2.761-7.163-5-16-5z\"></path>\n",
       "<path d=\"M16 17c-8.837 0-16-2.239-16-5v6c0 2.761 7.163 5 16 5s16-2.239 16-5v-6c0 2.761-7.163 5-16 5z\"></path>\n",
       "<path d=\"M16 26c-8.837 0-16-2.239-16-5v6c0 2.761 7.163 5 16 5s16-2.239 16-5v-6c0 2.761-7.163 5-16 5z\"></path>\n",
       "</symbol>\n",
       "<symbol id=\"icon-file-text2\" viewBox=\"0 0 32 32\">\n",
       "<path d=\"M28.681 7.159c-0.694-0.947-1.662-2.053-2.724-3.116s-2.169-2.030-3.116-2.724c-1.612-1.182-2.393-1.319-2.841-1.319h-15.5c-1.378 0-2.5 1.121-2.5 2.5v27c0 1.378 1.122 2.5 2.5 2.5h23c1.378 0 2.5-1.122 2.5-2.5v-19.5c0-0.448-0.137-1.23-1.319-2.841zM24.543 5.457c0.959 0.959 1.712 1.825 2.268 2.543h-4.811v-4.811c0.718 0.556 1.584 1.309 2.543 2.268zM28 29.5c0 0.271-0.229 0.5-0.5 0.5h-23c-0.271 0-0.5-0.229-0.5-0.5v-27c0-0.271 0.229-0.5 0.5-0.5 0 0 15.499-0 15.5 0v7c0 0.552 0.448 1 1 1h7v19.5z\"></path>\n",
       "<path d=\"M23 26h-14c-0.552 0-1-0.448-1-1s0.448-1 1-1h14c0.552 0 1 0.448 1 1s-0.448 1-1 1z\"></path>\n",
       "<path d=\"M23 22h-14c-0.552 0-1-0.448-1-1s0.448-1 1-1h14c0.552 0 1 0.448 1 1s-0.448 1-1 1z\"></path>\n",
       "<path d=\"M23 18h-14c-0.552 0-1-0.448-1-1s0.448-1 1-1h14c0.552 0 1 0.448 1 1s-0.448 1-1 1z\"></path>\n",
       "</symbol>\n",
       "</defs>\n",
       "</svg>\n",
       "<style>/* CSS stylesheet for displaying xarray objects in jupyterlab.\n",
       " *\n",
       " */\n",
       "\n",
       ":root {\n",
       "  --xr-font-color0: var(--jp-content-font-color0, rgba(0, 0, 0, 1));\n",
       "  --xr-font-color2: var(--jp-content-font-color2, rgba(0, 0, 0, 0.54));\n",
       "  --xr-font-color3: var(--jp-content-font-color3, rgba(0, 0, 0, 0.38));\n",
       "  --xr-border-color: var(--jp-border-color2, #e0e0e0);\n",
       "  --xr-disabled-color: var(--jp-layout-color3, #bdbdbd);\n",
       "  --xr-background-color: var(--jp-layout-color0, white);\n",
       "  --xr-background-color-row-even: var(--jp-layout-color1, white);\n",
       "  --xr-background-color-row-odd: var(--jp-layout-color2, #eeeeee);\n",
       "}\n",
       "\n",
       "html[theme=dark],\n",
       "body[data-theme=dark],\n",
       "body.vscode-dark {\n",
       "  --xr-font-color0: rgba(255, 255, 255, 1);\n",
       "  --xr-font-color2: rgba(255, 255, 255, 0.54);\n",
       "  --xr-font-color3: rgba(255, 255, 255, 0.38);\n",
       "  --xr-border-color: #1F1F1F;\n",
       "  --xr-disabled-color: #515151;\n",
       "  --xr-background-color: #111111;\n",
       "  --xr-background-color-row-even: #111111;\n",
       "  --xr-background-color-row-odd: #313131;\n",
       "}\n",
       "\n",
       ".xr-wrap {\n",
       "  display: block !important;\n",
       "  min-width: 300px;\n",
       "  max-width: 700px;\n",
       "}\n",
       "\n",
       ".xr-text-repr-fallback {\n",
       "  /* fallback to plain text repr when CSS is not injected (untrusted notebook) */\n",
       "  display: none;\n",
       "}\n",
       "\n",
       ".xr-header {\n",
       "  padding-top: 6px;\n",
       "  padding-bottom: 6px;\n",
       "  margin-bottom: 4px;\n",
       "  border-bottom: solid 1px var(--xr-border-color);\n",
       "}\n",
       "\n",
       ".xr-header > div,\n",
       ".xr-header > ul {\n",
       "  display: inline;\n",
       "  margin-top: 0;\n",
       "  margin-bottom: 0;\n",
       "}\n",
       "\n",
       ".xr-obj-type,\n",
       ".xr-array-name {\n",
       "  margin-left: 2px;\n",
       "  margin-right: 10px;\n",
       "}\n",
       "\n",
       ".xr-obj-type {\n",
       "  color: var(--xr-font-color2);\n",
       "}\n",
       "\n",
       ".xr-sections {\n",
       "  padding-left: 0 !important;\n",
       "  display: grid;\n",
       "  grid-template-columns: 150px auto auto 1fr 20px 20px;\n",
       "}\n",
       "\n",
       ".xr-section-item {\n",
       "  display: contents;\n",
       "}\n",
       "\n",
       ".xr-section-item input {\n",
       "  display: none;\n",
       "}\n",
       "\n",
       ".xr-section-item input + label {\n",
       "  color: var(--xr-disabled-color);\n",
       "}\n",
       "\n",
       ".xr-section-item input:enabled + label {\n",
       "  cursor: pointer;\n",
       "  color: var(--xr-font-color2);\n",
       "}\n",
       "\n",
       ".xr-section-item input:enabled + label:hover {\n",
       "  color: var(--xr-font-color0);\n",
       "}\n",
       "\n",
       ".xr-section-summary {\n",
       "  grid-column: 1;\n",
       "  color: var(--xr-font-color2);\n",
       "  font-weight: 500;\n",
       "}\n",
       "\n",
       ".xr-section-summary > span {\n",
       "  display: inline-block;\n",
       "  padding-left: 0.5em;\n",
       "}\n",
       "\n",
       ".xr-section-summary-in:disabled + label {\n",
       "  color: var(--xr-font-color2);\n",
       "}\n",
       "\n",
       ".xr-section-summary-in + label:before {\n",
       "  display: inline-block;\n",
       "  content: '►';\n",
       "  font-size: 11px;\n",
       "  width: 15px;\n",
       "  text-align: center;\n",
       "}\n",
       "\n",
       ".xr-section-summary-in:disabled + label:before {\n",
       "  color: var(--xr-disabled-color);\n",
       "}\n",
       "\n",
       ".xr-section-summary-in:checked + label:before {\n",
       "  content: '▼';\n",
       "}\n",
       "\n",
       ".xr-section-summary-in:checked + label > span {\n",
       "  display: none;\n",
       "}\n",
       "\n",
       ".xr-section-summary,\n",
       ".xr-section-inline-details {\n",
       "  padding-top: 4px;\n",
       "  padding-bottom: 4px;\n",
       "}\n",
       "\n",
       ".xr-section-inline-details {\n",
       "  grid-column: 2 / -1;\n",
       "}\n",
       "\n",
       ".xr-section-details {\n",
       "  display: none;\n",
       "  grid-column: 1 / -1;\n",
       "  margin-bottom: 5px;\n",
       "}\n",
       "\n",
       ".xr-section-summary-in:checked ~ .xr-section-details {\n",
       "  display: contents;\n",
       "}\n",
       "\n",
       ".xr-array-wrap {\n",
       "  grid-column: 1 / -1;\n",
       "  display: grid;\n",
       "  grid-template-columns: 20px auto;\n",
       "}\n",
       "\n",
       ".xr-array-wrap > label {\n",
       "  grid-column: 1;\n",
       "  vertical-align: top;\n",
       "}\n",
       "\n",
       ".xr-preview {\n",
       "  color: var(--xr-font-color3);\n",
       "}\n",
       "\n",
       ".xr-array-preview,\n",
       ".xr-array-data {\n",
       "  padding: 0 5px !important;\n",
       "  grid-column: 2;\n",
       "}\n",
       "\n",
       ".xr-array-data,\n",
       ".xr-array-in:checked ~ .xr-array-preview {\n",
       "  display: none;\n",
       "}\n",
       "\n",
       ".xr-array-in:checked ~ .xr-array-data,\n",
       ".xr-array-preview {\n",
       "  display: inline-block;\n",
       "}\n",
       "\n",
       ".xr-dim-list {\n",
       "  display: inline-block !important;\n",
       "  list-style: none;\n",
       "  padding: 0 !important;\n",
       "  margin: 0;\n",
       "}\n",
       "\n",
       ".xr-dim-list li {\n",
       "  display: inline-block;\n",
       "  padding: 0;\n",
       "  margin: 0;\n",
       "}\n",
       "\n",
       ".xr-dim-list:before {\n",
       "  content: '(';\n",
       "}\n",
       "\n",
       ".xr-dim-list:after {\n",
       "  content: ')';\n",
       "}\n",
       "\n",
       ".xr-dim-list li:not(:last-child):after {\n",
       "  content: ',';\n",
       "  padding-right: 5px;\n",
       "}\n",
       "\n",
       ".xr-has-index {\n",
       "  font-weight: bold;\n",
       "}\n",
       "\n",
       ".xr-var-list,\n",
       ".xr-var-item {\n",
       "  display: contents;\n",
       "}\n",
       "\n",
       ".xr-var-item > div,\n",
       ".xr-var-item label,\n",
       ".xr-var-item > .xr-var-name span {\n",
       "  background-color: var(--xr-background-color-row-even);\n",
       "  margin-bottom: 0;\n",
       "}\n",
       "\n",
       ".xr-var-item > .xr-var-name:hover span {\n",
       "  padding-right: 5px;\n",
       "}\n",
       "\n",
       ".xr-var-list > li:nth-child(odd) > div,\n",
       ".xr-var-list > li:nth-child(odd) > label,\n",
       ".xr-var-list > li:nth-child(odd) > .xr-var-name span {\n",
       "  background-color: var(--xr-background-color-row-odd);\n",
       "}\n",
       "\n",
       ".xr-var-name {\n",
       "  grid-column: 1;\n",
       "}\n",
       "\n",
       ".xr-var-dims {\n",
       "  grid-column: 2;\n",
       "}\n",
       "\n",
       ".xr-var-dtype {\n",
       "  grid-column: 3;\n",
       "  text-align: right;\n",
       "  color: var(--xr-font-color2);\n",
       "}\n",
       "\n",
       ".xr-var-preview {\n",
       "  grid-column: 4;\n",
       "}\n",
       "\n",
       ".xr-index-preview {\n",
       "  grid-column: 2 / 5;\n",
       "  color: var(--xr-font-color2);\n",
       "}\n",
       "\n",
       ".xr-var-name,\n",
       ".xr-var-dims,\n",
       ".xr-var-dtype,\n",
       ".xr-preview,\n",
       ".xr-attrs dt {\n",
       "  white-space: nowrap;\n",
       "  overflow: hidden;\n",
       "  text-overflow: ellipsis;\n",
       "  padding-right: 10px;\n",
       "}\n",
       "\n",
       ".xr-var-name:hover,\n",
       ".xr-var-dims:hover,\n",
       ".xr-var-dtype:hover,\n",
       ".xr-attrs dt:hover {\n",
       "  overflow: visible;\n",
       "  width: auto;\n",
       "  z-index: 1;\n",
       "}\n",
       "\n",
       ".xr-var-attrs,\n",
       ".xr-var-data,\n",
       ".xr-index-data {\n",
       "  display: none;\n",
       "  background-color: var(--xr-background-color) !important;\n",
       "  padding-bottom: 5px !important;\n",
       "}\n",
       "\n",
       ".xr-var-attrs-in:checked ~ .xr-var-attrs,\n",
       ".xr-var-data-in:checked ~ .xr-var-data,\n",
       ".xr-index-data-in:checked ~ .xr-index-data {\n",
       "  display: block;\n",
       "}\n",
       "\n",
       ".xr-var-data > table {\n",
       "  float: right;\n",
       "}\n",
       "\n",
       ".xr-var-name span,\n",
       ".xr-var-data,\n",
       ".xr-index-name div,\n",
       ".xr-index-data,\n",
       ".xr-attrs {\n",
       "  padding-left: 25px !important;\n",
       "}\n",
       "\n",
       ".xr-attrs,\n",
       ".xr-var-attrs,\n",
       ".xr-var-data,\n",
       ".xr-index-data {\n",
       "  grid-column: 1 / -1;\n",
       "}\n",
       "\n",
       "dl.xr-attrs {\n",
       "  padding: 0;\n",
       "  margin: 0;\n",
       "  display: grid;\n",
       "  grid-template-columns: 125px auto;\n",
       "}\n",
       "\n",
       ".xr-attrs dt,\n",
       ".xr-attrs dd {\n",
       "  padding: 0;\n",
       "  margin: 0;\n",
       "  float: left;\n",
       "  padding-right: 10px;\n",
       "  width: auto;\n",
       "}\n",
       "\n",
       ".xr-attrs dt {\n",
       "  font-weight: normal;\n",
       "  grid-column: 1;\n",
       "}\n",
       "\n",
       ".xr-attrs dt:hover span {\n",
       "  display: inline-block;\n",
       "  background: var(--xr-background-color);\n",
       "  padding-right: 10px;\n",
       "}\n",
       "\n",
       ".xr-attrs dd {\n",
       "  grid-column: 2;\n",
       "  white-space: pre-wrap;\n",
       "  word-break: break-all;\n",
       "}\n",
       "\n",
       ".xr-icon-database,\n",
       ".xr-icon-file-text2,\n",
       ".xr-no-icon {\n",
       "  display: inline-block;\n",
       "  vertical-align: middle;\n",
       "  width: 1em;\n",
       "  height: 1.5em !important;\n",
       "  stroke-width: 0;\n",
       "  stroke: currentColor;\n",
       "  fill: currentColor;\n",
       "}\n",
       "</style><pre class='xr-text-repr-fallback'>&lt;xarray.Dataset&gt;\n",
       "Dimensions:                (time: 28465, y: 33, x: 50)\n",
       "Coordinates:\n",
       "  * time                   (time) datetime64[ns] 2019-01-01 ... 2022-04-01\n",
       "  * y                      (y) float64 50.92 50.91 50.9 ... 50.67 50.66 50.65\n",
       "  * x                      (x) float64 5.718 5.727 5.735 ... 6.11 6.118 6.127\n",
       "Data variables:\n",
       "    potential_evaporation  (time, y, x) float64 0.004167 0.004167 ... 0.008333\n",
       "Attributes:\n",
       "    units:    mm/h</pre><div class='xr-wrap' style='display:none'><div class='xr-header'><div class='xr-obj-type'>xarray.Dataset</div></div><ul class='xr-sections'><li class='xr-section-item'><input id='section-478d59cb-7255-47a6-989f-d740af15b06e' class='xr-section-summary-in' type='checkbox' disabled ><label for='section-478d59cb-7255-47a6-989f-d740af15b06e' class='xr-section-summary'  title='Expand/collapse section'>Dimensions:</label><div class='xr-section-inline-details'><ul class='xr-dim-list'><li><span class='xr-has-index'>time</span>: 28465</li><li><span class='xr-has-index'>y</span>: 33</li><li><span class='xr-has-index'>x</span>: 50</li></ul></div><div class='xr-section-details'></div></li><li class='xr-section-item'><input id='section-8b3d277b-7e1f-4bf5-8201-2c58ca8a69f6' class='xr-section-summary-in' type='checkbox'  checked><label for='section-8b3d277b-7e1f-4bf5-8201-2c58ca8a69f6' class='xr-section-summary' >Coordinates: <span>(3)</span></label><div class='xr-section-inline-details'></div><div class='xr-section-details'><ul class='xr-var-list'><li class='xr-var-item'><div class='xr-var-name'><span class='xr-has-index'>time</span></div><div class='xr-var-dims'>(time)</div><div class='xr-var-dtype'>datetime64[ns]</div><div class='xr-var-preview xr-preview'>2019-01-01 ... 2022-04-01</div><input id='attrs-1e2ea7e7-cf94-47df-bfca-6196d2866036' class='xr-var-attrs-in' type='checkbox' disabled><label for='attrs-1e2ea7e7-cf94-47df-bfca-6196d2866036' title='Show/Hide attributes'><svg class='icon xr-icon-file-text2'><use xlink:href='#icon-file-text2'></use></svg></label><input id='data-a258f4a0-eb68-473b-aabd-ae40499360ef' class='xr-var-data-in' type='checkbox'><label for='data-a258f4a0-eb68-473b-aabd-ae40499360ef' title='Show/Hide data repr'><svg class='icon xr-icon-database'><use xlink:href='#icon-database'></use></svg></label><div class='xr-var-attrs'><dl class='xr-attrs'></dl></div><div class='xr-var-data'><pre>array([&#x27;2019-01-01T00:00:00.000000000&#x27;, &#x27;2019-01-01T01:00:00.000000000&#x27;,\n",
       "       &#x27;2019-01-01T02:00:00.000000000&#x27;, ..., &#x27;2022-03-31T22:00:00.000000000&#x27;,\n",
       "       &#x27;2022-03-31T23:00:00.000000000&#x27;, &#x27;2022-04-01T00:00:00.000000000&#x27;],\n",
       "      dtype=&#x27;datetime64[ns]&#x27;)</pre></div></li><li class='xr-var-item'><div class='xr-var-name'><span class='xr-has-index'>y</span></div><div class='xr-var-dims'>(y)</div><div class='xr-var-dtype'>float64</div><div class='xr-var-preview xr-preview'>50.92 50.91 50.9 ... 50.66 50.65</div><input id='attrs-8338423a-5b2f-4aff-a199-581d95befcad' class='xr-var-attrs-in' type='checkbox' disabled><label for='attrs-8338423a-5b2f-4aff-a199-581d95befcad' title='Show/Hide attributes'><svg class='icon xr-icon-file-text2'><use xlink:href='#icon-file-text2'></use></svg></label><input id='data-f5e55d1f-18d0-41b1-a11e-58d49d726227' class='xr-var-data-in' type='checkbox'><label for='data-f5e55d1f-18d0-41b1-a11e-58d49d726227' title='Show/Hide data repr'><svg class='icon xr-icon-database'><use xlink:href='#icon-database'></use></svg></label><div class='xr-var-attrs'><dl class='xr-attrs'></dl></div><div class='xr-var-data'><pre>array([50.9175  , 50.909167, 50.900833, 50.8925  , 50.884167, 50.875833,\n",
       "       50.8675  , 50.859167, 50.850833, 50.8425  , 50.834167, 50.825833,\n",
       "       50.8175  , 50.809167, 50.800833, 50.7925  , 50.784167, 50.775833,\n",
       "       50.7675  , 50.759167, 50.750833, 50.7425  , 50.734167, 50.725833,\n",
       "       50.7175  , 50.709167, 50.700833, 50.6925  , 50.684167, 50.675833,\n",
       "       50.6675  , 50.659167, 50.650833])</pre></div></li><li class='xr-var-item'><div class='xr-var-name'><span class='xr-has-index'>x</span></div><div class='xr-var-dims'>(x)</div><div class='xr-var-dtype'>float64</div><div class='xr-var-preview xr-preview'>5.718 5.727 5.735 ... 6.118 6.127</div><input id='attrs-bb8be269-0804-412f-bcd0-ea7866e2c557' class='xr-var-attrs-in' type='checkbox' disabled><label for='attrs-bb8be269-0804-412f-bcd0-ea7866e2c557' title='Show/Hide attributes'><svg class='icon xr-icon-file-text2'><use xlink:href='#icon-file-text2'></use></svg></label><input id='data-ca7afca6-8151-46ee-85a6-4be6367cff63' class='xr-var-data-in' type='checkbox'><label for='data-ca7afca6-8151-46ee-85a6-4be6367cff63' title='Show/Hide data repr'><svg class='icon xr-icon-database'><use xlink:href='#icon-database'></use></svg></label><div class='xr-var-attrs'><dl class='xr-attrs'></dl></div><div class='xr-var-data'><pre>array([5.718333, 5.726667, 5.735   , 5.743333, 5.751667, 5.76    , 5.768333,\n",
       "       5.776667, 5.785   , 5.793333, 5.801667, 5.81    , 5.818333, 5.826667,\n",
       "       5.835   , 5.843333, 5.851667, 5.86    , 5.868333, 5.876667, 5.885   ,\n",
       "       5.893333, 5.901667, 5.91    , 5.918333, 5.926667, 5.935   , 5.943333,\n",
       "       5.951667, 5.96    , 5.968333, 5.976667, 5.985   , 5.993333, 6.001667,\n",
       "       6.01    , 6.018333, 6.026667, 6.035   , 6.043333, 6.051667, 6.06    ,\n",
       "       6.068333, 6.076667, 6.085   , 6.093333, 6.101667, 6.11    , 6.118333,\n",
       "       6.126667])</pre></div></li></ul></div></li><li class='xr-section-item'><input id='section-2ac958ee-9eb4-4551-afe2-4305aaecce5d' class='xr-section-summary-in' type='checkbox'  checked><label for='section-2ac958ee-9eb4-4551-afe2-4305aaecce5d' class='xr-section-summary' >Data variables: <span>(1)</span></label><div class='xr-section-inline-details'></div><div class='xr-section-details'><ul class='xr-var-list'><li class='xr-var-item'><div class='xr-var-name'><span>potential_evaporation</span></div><div class='xr-var-dims'>(time, y, x)</div><div class='xr-var-dtype'>float64</div><div class='xr-var-preview xr-preview'>0.004167 0.004167 ... 0.008333</div><input id='attrs-c80c2815-92ec-44fd-a497-b17ace95516f' class='xr-var-attrs-in' type='checkbox' disabled><label for='attrs-c80c2815-92ec-44fd-a497-b17ace95516f' title='Show/Hide attributes'><svg class='icon xr-icon-file-text2'><use xlink:href='#icon-file-text2'></use></svg></label><input id='data-ff0babc8-9b73-4216-bf88-d17fa2cbe4c0' class='xr-var-data-in' type='checkbox'><label for='data-ff0babc8-9b73-4216-bf88-d17fa2cbe4c0' title='Show/Hide data repr'><svg class='icon xr-icon-database'><use xlink:href='#icon-database'></use></svg></label><div class='xr-var-attrs'><dl class='xr-attrs'></dl></div><div class='xr-var-data'><pre>array([[[0.00416667, 0.00416667, 0.00416667, ..., 0.00416667,\n",
       "         0.00416667, 0.00416667],\n",
       "        [0.00416667, 0.00416667, 0.00416667, ..., 0.00416667,\n",
       "         0.00416667, 0.00416667],\n",
       "        [0.00416667, 0.00416667, 0.00416667, ..., 0.00416667,\n",
       "         0.00416667, 0.00416667],\n",
       "        ...,\n",
       "        [0.00416667, 0.00416667, 0.00416667, ..., 0.00416667,\n",
       "         0.00416667, 0.00416667],\n",
       "        [0.00416667, 0.00416667, 0.00416667, ..., 0.00416667,\n",
       "         0.00416667, 0.00416667],\n",
       "        [0.00416667, 0.00416667, 0.00416667, ..., 0.00416667,\n",
       "         0.00416667, 0.00416667]],\n",
       "\n",
       "       [[0.00416667, 0.00416667, 0.00416667, ..., 0.00416667,\n",
       "         0.00416667, 0.00416667],\n",
       "        [0.00416667, 0.00416667, 0.00416667, ..., 0.00416667,\n",
       "         0.00416667, 0.00416667],\n",
       "        [0.00416667, 0.00416667, 0.00416667, ..., 0.00416667,\n",
       "         0.00416667, 0.00416667],\n",
       "...\n",
       "        [0.0125    , 0.0125    , 0.0125    , ..., 0.0125    ,\n",
       "         0.0125    , 0.0125    ],\n",
       "        [0.0125    , 0.0125    , 0.0125    , ..., 0.0125    ,\n",
       "         0.0125    , 0.0125    ],\n",
       "        [0.0125    , 0.0125    , 0.0125    , ..., 0.0125    ,\n",
       "         0.0125    , 0.0125    ]],\n",
       "\n",
       "       [[0.00833333, 0.00833333, 0.00833333, ..., 0.00833333,\n",
       "         0.00833333, 0.00833333],\n",
       "        [0.00833333, 0.00833333, 0.00833333, ..., 0.00833333,\n",
       "         0.00833333, 0.00833333],\n",
       "        [0.00833333, 0.00833333, 0.00833333, ..., 0.00833333,\n",
       "         0.00833333, 0.00833333],\n",
       "        ...,\n",
       "        [0.00833333, 0.00833333, 0.00833333, ..., 0.00833333,\n",
       "         0.00833333, 0.00833333],\n",
       "        [0.00833333, 0.00833333, 0.00833333, ..., 0.00833333,\n",
       "         0.00833333, 0.00833333],\n",
       "        [0.00833333, 0.00833333, 0.00833333, ..., 0.00833333,\n",
       "         0.00833333, 0.00833333]]])</pre></div></li></ul></div></li><li class='xr-section-item'><input id='section-05e28af1-02b0-46b7-87c5-00e4857445e8' class='xr-section-summary-in' type='checkbox'  ><label for='section-05e28af1-02b0-46b7-87c5-00e4857445e8' class='xr-section-summary' >Indexes: <span>(3)</span></label><div class='xr-section-inline-details'></div><div class='xr-section-details'><ul class='xr-var-list'><li class='xr-var-item'><div class='xr-index-name'><div>time</div></div><div class='xr-index-preview'>PandasIndex</div><div></div><input id='index-9a657e8f-60bb-4ea8-99c5-eee4d54815aa' class='xr-index-data-in' type='checkbox'/><label for='index-9a657e8f-60bb-4ea8-99c5-eee4d54815aa' title='Show/Hide index repr'><svg class='icon xr-icon-database'><use xlink:href='#icon-database'></use></svg></label><div class='xr-index-data'><pre>PandasIndex(DatetimeIndex([&#x27;2019-01-01 00:00:00&#x27;, &#x27;2019-01-01 01:00:00&#x27;,\n",
       "               &#x27;2019-01-01 02:00:00&#x27;, &#x27;2019-01-01 03:00:00&#x27;,\n",
       "               &#x27;2019-01-01 04:00:00&#x27;, &#x27;2019-01-01 05:00:00&#x27;,\n",
       "               &#x27;2019-01-01 06:00:00&#x27;, &#x27;2019-01-01 07:00:00&#x27;,\n",
       "               &#x27;2019-01-01 08:00:00&#x27;, &#x27;2019-01-01 09:00:00&#x27;,\n",
       "               ...\n",
       "               &#x27;2022-03-31 15:00:00&#x27;, &#x27;2022-03-31 16:00:00&#x27;,\n",
       "               &#x27;2022-03-31 17:00:00&#x27;, &#x27;2022-03-31 18:00:00&#x27;,\n",
       "               &#x27;2022-03-31 19:00:00&#x27;, &#x27;2022-03-31 20:00:00&#x27;,\n",
       "               &#x27;2022-03-31 21:00:00&#x27;, &#x27;2022-03-31 22:00:00&#x27;,\n",
       "               &#x27;2022-03-31 23:00:00&#x27;, &#x27;2022-04-01 00:00:00&#x27;],\n",
       "              dtype=&#x27;datetime64[ns]&#x27;, name=&#x27;time&#x27;, length=28465, freq=None))</pre></div></li><li class='xr-var-item'><div class='xr-index-name'><div>y</div></div><div class='xr-index-preview'>PandasIndex</div><div></div><input id='index-987df96c-9b96-43b8-bdb6-87b07916d525' class='xr-index-data-in' type='checkbox'/><label for='index-987df96c-9b96-43b8-bdb6-87b07916d525' title='Show/Hide index repr'><svg class='icon xr-icon-database'><use xlink:href='#icon-database'></use></svg></label><div class='xr-index-data'><pre>PandasIndex(Float64Index([  50.9175, 50.909167, 50.900833,   50.8925, 50.884167, 50.875833,\n",
       "                50.8675, 50.859167, 50.850833,   50.8425, 50.834167, 50.825833,\n",
       "                50.8175, 50.809167, 50.800833,   50.7925, 50.784167, 50.775833,\n",
       "                50.7675, 50.759167, 50.750833,   50.7425, 50.734167, 50.725833,\n",
       "                50.7175, 50.709167, 50.700833,   50.6925, 50.684167, 50.675833,\n",
       "                50.6675, 50.659167, 50.650833],\n",
       "             dtype=&#x27;float64&#x27;, name=&#x27;y&#x27;))</pre></div></li><li class='xr-var-item'><div class='xr-index-name'><div>x</div></div><div class='xr-index-preview'>PandasIndex</div><div></div><input id='index-8ef70cb8-80e5-4132-8d10-305407e082ad' class='xr-index-data-in' type='checkbox'/><label for='index-8ef70cb8-80e5-4132-8d10-305407e082ad' title='Show/Hide index repr'><svg class='icon xr-icon-database'><use xlink:href='#icon-database'></use></svg></label><div class='xr-index-data'><pre>PandasIndex(Float64Index([5.718333, 5.726667,    5.735, 5.743333, 5.751667,     5.76,\n",
       "              5.768333, 5.776667,    5.785, 5.793333, 5.801667,     5.81,\n",
       "              5.818333, 5.826667,    5.835, 5.843333, 5.851667,     5.86,\n",
       "              5.868333, 5.876667,    5.885, 5.893333, 5.901667,     5.91,\n",
       "              5.918333, 5.926667,    5.935, 5.943333, 5.951667,     5.96,\n",
       "              5.968333, 5.976667,    5.985, 5.993333, 6.001667,     6.01,\n",
       "              6.018333, 6.026667,    6.035, 6.043333, 6.051667,     6.06,\n",
       "              6.068333, 6.076667,    6.085, 6.093333, 6.101667,     6.11,\n",
       "              6.118333, 6.126667],\n",
       "             dtype=&#x27;float64&#x27;, name=&#x27;x&#x27;))</pre></div></li></ul></div></li><li class='xr-section-item'><input id='section-5f725e73-5b06-484e-99cf-3e2a31993ec6' class='xr-section-summary-in' type='checkbox'  checked><label for='section-5f725e73-5b06-484e-99cf-3e2a31993ec6' class='xr-section-summary' >Attributes: <span>(1)</span></label><div class='xr-section-inline-details'></div><div class='xr-section-details'><dl class='xr-attrs'><dt><span>units :</span></dt><dd>mm/h</dd></dl></div></li></ul></div></div>"
      ],
      "text/plain": [
       "<xarray.Dataset>\n",
       "Dimensions:                (time: 28465, y: 33, x: 50)\n",
       "Coordinates:\n",
       "  * time                   (time) datetime64[ns] 2019-01-01 ... 2022-04-01\n",
       "  * y                      (y) float64 50.92 50.91 50.9 ... 50.67 50.66 50.65\n",
       "  * x                      (x) float64 5.718 5.727 5.735 ... 6.11 6.118 6.127\n",
       "Data variables:\n",
       "    potential_evaporation  (time, y, x) float64 0.004167 0.004167 ... 0.008333\n",
       "Attributes:\n",
       "    units:    mm/h"
      ]
     },
     "execution_count": 26,
     "metadata": {},
     "output_type": "execute_result"
    }
   ],
   "source": [
    "ds"
   ]
  },
  {
   "cell_type": "markdown",
   "id": "e967b930",
   "metadata": {},
   "source": [
    "### Save the Maastricht potential evaporation data"
   ]
  },
  {
   "cell_type": "markdown",
   "id": "b08cd937",
   "metadata": {},
   "source": [
    "#### Hourly data"
   ]
  },
  {
   "cell_type": "code",
   "execution_count": 23,
   "id": "721fe409",
   "metadata": {},
   "outputs": [],
   "source": [
    "evap_hourly.to_csv(f'{folder}/Maastricht_Evaporation.csv')"
   ]
  },
  {
   "cell_type": "markdown",
   "id": "2978a7fb",
   "metadata": {},
   "source": [
    "#### Daily data"
   ]
  },
  {
   "cell_type": "code",
   "execution_count": 24,
   "id": "c3503f98",
   "metadata": {},
   "outputs": [],
   "source": [
    "evap.to_csv(f'{folder}/Maastricht_daily.csv')"
   ]
  },
  {
   "cell_type": "markdown",
   "id": "1dce1b1f",
   "metadata": {},
   "source": [
    "#### Hourly raster data"
   ]
  },
  {
   "cell_type": "code",
   "execution_count": 27,
   "id": "49632a3d",
   "metadata": {},
   "outputs": [],
   "source": [
    "ds.to_netcdf(r\"C:\\Users\\924259\\OneDrive - Royal HaskoningDHV\\Documents\\Master thesis Daan Idsinga\\Data\\Potential Evaporation and Temperature - ERA5/Maastricht_radar.nc\")"
   ]
  },
  {
   "cell_type": "code",
   "execution_count": null,
   "id": "9e921f8d",
   "metadata": {},
   "outputs": [],
   "source": []
  }
 ],
 "metadata": {
  "kernelspec": {
   "display_name": "Python 3 (ipykernel)",
   "language": "python",
   "name": "python3"
  },
  "language_info": {
   "codemirror_mode": {
    "name": "ipython",
    "version": 3
   },
   "file_extension": ".py",
   "mimetype": "text/x-python",
   "name": "python",
   "nbconvert_exporter": "python",
   "pygments_lexer": "ipython3",
   "version": "3.10.10"
  }
 },
 "nbformat": 4,
 "nbformat_minor": 5
}
